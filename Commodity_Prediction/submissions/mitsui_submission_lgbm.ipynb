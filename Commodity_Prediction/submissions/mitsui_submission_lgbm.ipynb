{
 "cells": [
  {
   "cell_type": "code",
   "execution_count": null,
   "id": "6576f200",
   "metadata": {},
   "outputs": [],
   "source": [
    "import pandas as pd\n",
    "import numpy as np\n",
    "import joblib\n",
    "from lightgbm import LGBMRegressor\n",
    "import warnings\n",
    "warnings.filterwarnings(\"ignore\")\n",
    "\n",
    "# Try importing the Mitsui server (Kaggle-only)\n",
    "try:\n",
    "    import mitsui\n",
    "except:\n",
    "    mitsui = None\n"
   ]
  },
  {
   "cell_type": "code",
   "execution_count": null,
   "id": "1bc2f00b",
   "metadata": {},
   "outputs": [],
   "source": [
    "# Load the trained model\n",
    "model = joblib.load(\"../models/lgbm_tuned_model.pkl\")\n"
   ]
  },
  {
   "cell_type": "code",
   "execution_count": null,
   "id": "328152db",
   "metadata": {},
   "outputs": [],
   "source": [
    "def predict(market_features_df: pd.DataFrame, revealed_targets_df: pd.DataFrame) -> pd.DataFrame:\n",
    "    df = market_features_df.copy()\n",
    "    \n",
    "    # --- Feature Engineering (same logic as training) ---\n",
    "    for lag in [1, 2, 3]:\n",
    "        for col in ['LME_CA_Close', 'LME_ZS_Close', 'target_2']:\n",
    "            df[f'{col}_lag{lag}'] = df[col].shift(lag)\n",
    "\n",
    "    for window in [3, 7, 14]:\n",
    "        df[f'CA_roll_mean_{window}'] = df['LME_CA_Close'].rolling(window).mean()\n",
    "        df[f'ZS_roll_mean_{window}'] = df['LME_ZS_Close'].rolling(window).mean()\n",
    "        df[f'target_roll_std_{window}'] = df['target_2'].rolling(window).std()\n",
    "\n",
    "    df.dropna(inplace=True)\n",
    "    \n",
    "    # Predict the last available row\n",
    "    features = df.iloc[[-1]]  # last row only\n",
    "    pred_val = model.predict(features)[0]\n",
    "    \n",
    "    # Fill all 424 targets with zeros, then insert our prediction into target_2 (index 1)\n",
    "    out = pd.DataFrame([[0.0]*424], columns=[f\"target_{i}\" for i in range(424)])\n",
    "    out[\"target_2\"] = pred_val\n",
    "    \n",
    "    return out\n"
   ]
  },
  {
   "cell_type": "code",
   "execution_count": null,
   "id": "97c34925",
   "metadata": {},
   "outputs": [],
   "source": [
    "if mitsui:\n",
    "    mitsui.run(predict)\n",
    "else:\n",
    "    print(\"Not running on Kaggle. You can test locally using mitsui_demo_submission.py\")\n"
   ]
  }
 ],
 "metadata": {
  "language_info": {
   "name": "python"
  }
 },
 "nbformat": 4,
 "nbformat_minor": 5
}
