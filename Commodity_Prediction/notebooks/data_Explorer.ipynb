{
 "cells": [
  {
   "cell_type": "markdown",
   "id": "22b25200",
   "metadata": {},
   "source": [
    "Step 1: Merge Features and Target"
   ]
  },
  {
   "cell_type": "code",
   "execution_count": 2,
   "id": "e98f887a",
   "metadata": {},
   "outputs": [],
   "source": [
    "import pandas as pd\n",
    "\n",
    "# Load the raw training data and target labels\n",
    "train_df = pd.read_csv('../data/train.csv')  # adjust path if needed\n",
    "labels_df = pd.read_csv('../data/train_labels.csv')\n",
    "\n",
    "# Extract only the target we care about: target_2\n",
    "target_df = labels_df[['date_id', 'target_2']].copy()\n",
    "\n",
    "# Merge the features with the target\n",
    "merged_df = pd.merge(train_df, target_df, on='date_id', how='left')\n"
   ]
  },
  {
   "cell_type": "markdown",
   "id": "57c3faed",
   "metadata": {},
   "source": [
    "Step 2: Align Target with Future Value (Shift by -1)"
   ]
  },
  {
   "cell_type": "code",
   "execution_count": 3,
   "id": "9c14f2e4",
   "metadata": {},
   "outputs": [],
   "source": [
    "# Shift the target up by 1 day to align with today’s features\n",
    "merged_df['target_2_shifted'] = merged_df['target_2'].shift(-1)\n",
    "\n",
    "# Drop last row (where shifted target becomes NaN)\n",
    "merged_df = merged_df.dropna(subset=['target_2_shifted'])\n"
   ]
  },
  {
   "cell_type": "markdown",
   "id": "9b7f1159",
   "metadata": {},
   "source": [
    "Step 3: Preview That It Worked"
   ]
  },
  {
   "cell_type": "code",
   "execution_count": 4,
   "id": "7317a7af",
   "metadata": {},
   "outputs": [
    {
     "data": {
      "text/html": [
       "<div>\n",
       "<style scoped>\n",
       "    .dataframe tbody tr th:only-of-type {\n",
       "        vertical-align: middle;\n",
       "    }\n",
       "\n",
       "    .dataframe tbody tr th {\n",
       "        vertical-align: top;\n",
       "    }\n",
       "\n",
       "    .dataframe thead th {\n",
       "        text-align: right;\n",
       "    }\n",
       "</style>\n",
       "<table border=\"1\" class=\"dataframe\">\n",
       "  <thead>\n",
       "    <tr style=\"text-align: right;\">\n",
       "      <th></th>\n",
       "      <th>date_id</th>\n",
       "      <th>LME_CA_Close</th>\n",
       "      <th>LME_ZS_Close</th>\n",
       "      <th>target_2</th>\n",
       "      <th>target_2_shifted</th>\n",
       "    </tr>\n",
       "  </thead>\n",
       "  <tbody>\n",
       "    <tr>\n",
       "      <th>0</th>\n",
       "      <td>0</td>\n",
       "      <td>7205.0</td>\n",
       "      <td>3349.0</td>\n",
       "      <td>-0.004675</td>\n",
       "      <td>-0.007052</td>\n",
       "    </tr>\n",
       "    <tr>\n",
       "      <th>1</th>\n",
       "      <td>1</td>\n",
       "      <td>7147.0</td>\n",
       "      <td>3327.0</td>\n",
       "      <td>-0.007052</td>\n",
       "      <td>-0.008934</td>\n",
       "    </tr>\n",
       "    <tr>\n",
       "      <th>2</th>\n",
       "      <td>2</td>\n",
       "      <td>7188.5</td>\n",
       "      <td>3362.0</td>\n",
       "      <td>-0.008934</td>\n",
       "      <td>0.011943</td>\n",
       "    </tr>\n",
       "    <tr>\n",
       "      <th>3</th>\n",
       "      <td>3</td>\n",
       "      <td>7121.0</td>\n",
       "      <td>3354.0</td>\n",
       "      <td>0.011943</td>\n",
       "      <td>0.006856</td>\n",
       "    </tr>\n",
       "    <tr>\n",
       "      <th>4</th>\n",
       "      <td>4</td>\n",
       "      <td>7125.0</td>\n",
       "      <td>3386.0</td>\n",
       "      <td>0.006856</td>\n",
       "      <td>-0.016626</td>\n",
       "    </tr>\n",
       "    <tr>\n",
       "      <th>5</th>\n",
       "      <td>5</td>\n",
       "      <td>7102.0</td>\n",
       "      <td>3335.0</td>\n",
       "      <td>-0.016626</td>\n",
       "      <td>-0.003542</td>\n",
       "    </tr>\n",
       "    <tr>\n",
       "      <th>6</th>\n",
       "      <td>6</td>\n",
       "      <td>7153.0</td>\n",
       "      <td>3336.0</td>\n",
       "      <td>-0.003542</td>\n",
       "      <td>0.002360</td>\n",
       "    </tr>\n",
       "    <tr>\n",
       "      <th>7</th>\n",
       "      <td>7</td>\n",
       "      <td>7140.5</td>\n",
       "      <td>3386.0</td>\n",
       "      <td>0.002360</td>\n",
       "      <td>-0.013058</td>\n",
       "    </tr>\n",
       "    <tr>\n",
       "      <th>8</th>\n",
       "      <td>8</td>\n",
       "      <td>7110.0</td>\n",
       "      <td>3383.5</td>\n",
       "      <td>-0.013058</td>\n",
       "      <td>0.004692</td>\n",
       "    </tr>\n",
       "    <tr>\n",
       "      <th>9</th>\n",
       "      <td>9</td>\n",
       "      <td>7210.0</td>\n",
       "      <td>3423.0</td>\n",
       "      <td>0.004692</td>\n",
       "      <td>0.003432</td>\n",
       "    </tr>\n",
       "  </tbody>\n",
       "</table>\n",
       "</div>"
      ],
      "text/plain": [
       "   date_id  LME_CA_Close  LME_ZS_Close  target_2  target_2_shifted\n",
       "0        0        7205.0        3349.0 -0.004675         -0.007052\n",
       "1        1        7147.0        3327.0 -0.007052         -0.008934\n",
       "2        2        7188.5        3362.0 -0.008934          0.011943\n",
       "3        3        7121.0        3354.0  0.011943          0.006856\n",
       "4        4        7125.0        3386.0  0.006856         -0.016626\n",
       "5        5        7102.0        3335.0 -0.016626         -0.003542\n",
       "6        6        7153.0        3336.0 -0.003542          0.002360\n",
       "7        7        7140.5        3386.0  0.002360         -0.013058\n",
       "8        8        7110.0        3383.5 -0.013058          0.004692\n",
       "9        9        7210.0        3423.0  0.004692          0.003432"
      ]
     },
     "execution_count": 4,
     "metadata": {},
     "output_type": "execute_result"
    }
   ],
   "source": [
    "# Preview a few rows of relevant columns\n",
    "merged_df[['date_id', 'LME_CA_Close', 'LME_ZS_Close', 'target_2', 'target_2_shifted']].head(10)\n"
   ]
  }
 ],
 "metadata": {
  "kernelspec": {
   "display_name": ".venv",
   "language": "python",
   "name": "python3"
  },
  "language_info": {
   "codemirror_mode": {
    "name": "ipython",
    "version": 3
   },
   "file_extension": ".py",
   "mimetype": "text/x-python",
   "name": "python",
   "nbconvert_exporter": "python",
   "pygments_lexer": "ipython3",
   "version": "3.11.0"
  }
 },
 "nbformat": 4,
 "nbformat_minor": 5
}
