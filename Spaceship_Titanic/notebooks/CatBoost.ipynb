{
 "cells": [
  {
   "cell_type": "code",
   "execution_count": 1,
   "id": "def79661",
   "metadata": {},
   "outputs": [],
   "source": [
    "import pandas as pd\n",
    "from catboost import CatBoostClassifier\n",
    "\n",
    "\n",
    "train = pd.read_csv('../data/train_clean.csv')\n",
    "test = pd.read_csv('../data/test_clean.csv')\n",
    "\n",
    "X = train.drop(columns=['Transported'])\n",
    "y = train['Transported'].astype(int)\n",
    "\n",
    "cat_features = X.select_dtypes(include='object').columns.tolist()\n"
   ]
  },
  {
   "cell_type": "code",
   "execution_count": 2,
   "id": "e29a1985",
   "metadata": {},
   "outputs": [
    {
     "name": "stdout",
     "output_type": "stream",
     "text": [
      "PassengerId              object\n",
      "HomePlanet               object\n",
      "CryoSleep                  bool\n",
      "Cabin                    object\n",
      "Destination              object\n",
      "Age                     float64\n",
      "VIP                        bool\n",
      "RoomService             float64\n",
      "FoodCourt               float64\n",
      "ShoppingMall            float64\n",
      "Spa                     float64\n",
      "VRDeck                  float64\n",
      "Name                     object\n",
      "GroupID                   int64\n",
      "MissingCount              int64\n",
      "NoSpend                    bool\n",
      "CryoSleep_missing          bool\n",
      "RoomService_missing        bool\n",
      "FoodCourt_missing          bool\n",
      "ShoppingMall_missing       bool\n",
      "Spa_missing                bool\n",
      "VRDeck_missing             bool\n",
      "VIP_missing                bool\n",
      "Age_missing                bool\n",
      "CabinDeck                object\n",
      "CabinNum                float64\n",
      "CabinSide                object\n",
      "CabinDeck_missing          bool\n",
      "CabinSide_missing          bool\n",
      "NoActivity                 bool\n",
      "GroupSize                 int64\n",
      "IsAlone                    bool\n",
      "AgeGroup                 object\n",
      "dtype: object\n",
      "Categorical feature indices: [0, 1, 2, 3, 4, 6, 12, 15, 16, 17, 18, 19, 20, 21, 22, 23, 24, 26, 27, 28, 29, 31, 32]\n",
      "PassengerId                     0001_01\n",
      "HomePlanet                       Europa\n",
      "CryoSleep                         False\n",
      "Cabin                             B/0/P\n",
      "Destination                 TRAPPIST-1e\n",
      "VIP                               False\n",
      "Name                    Maham Ofracculy\n",
      "NoSpend                            True\n",
      "CryoSleep_missing                 False\n",
      "RoomService_missing               False\n",
      "FoodCourt_missing                 False\n",
      "ShoppingMall_missing              False\n",
      "Spa_missing                       False\n",
      "VRDeck_missing                    False\n",
      "VIP_missing                       False\n",
      "Age_missing                       False\n",
      "CabinDeck                             B\n",
      "CabinSide                             P\n",
      "CabinDeck_missing                 False\n",
      "CabinSide_missing                 False\n",
      "NoActivity                         True\n",
      "IsAlone                            True\n",
      "AgeGroup                          Adult\n",
      "Name: 0, dtype: object\n"
     ]
    }
   ],
   "source": [
    "print(X.dtypes)\n",
    "cat_cols = X.select_dtypes(include=[\"object\", \"bool\", \"category\"]).columns.tolist()\n",
    "cat_feature_indices = [X.columns.get_loc(col) for col in cat_cols]\n",
    "\n",
    "print(\"Categorical feature indices:\", cat_feature_indices)\n",
    "\n",
    "\n",
    "model = CatBoostClassifier(\n",
    "    verbose=0,\n",
    "    random_state=42,\n",
    "    cat_features=cat_feature_indices  # <- this is the missing piece\n",
    ")\n",
    "\n",
    "\n",
    "print(X.iloc[0][cat_cols])\n"
   ]
  },
  {
   "cell_type": "code",
   "execution_count": 3,
   "id": "64c6f48f",
   "metadata": {},
   "outputs": [
    {
     "data": {
      "text/plain": [
       "HomePlanet     201\n",
       "Name           200\n",
       "Cabin          199\n",
       "Destination    182\n",
       "PassengerId      0\n",
       "Age              0\n",
       "VIP              0\n",
       "RoomService      0\n",
       "CryoSleep        0\n",
       "FoodCourt        0\n",
       "dtype: int64"
      ]
     },
     "execution_count": 3,
     "metadata": {},
     "output_type": "execute_result"
    }
   ],
   "source": [
    "X.isnull().sum().sort_values(ascending=False).head(10)\n"
   ]
  },
  {
   "cell_type": "code",
   "execution_count": 4,
   "id": "5b796223",
   "metadata": {},
   "outputs": [],
   "source": [
    "# Force all categorical features to string (NaN becomes 'nan')\n",
    "for col in cat_cols:\n",
    "    X[col] = X[col].astype(str)\n",
    "    test[col] = test[col].astype(str)"
   ]
  },
  {
   "cell_type": "code",
   "execution_count": 5,
   "id": "f07bbea9",
   "metadata": {},
   "outputs": [
    {
     "name": "stdout",
     "output_type": "stream",
     "text": [
      "Fold 1 Log Loss: 0.37539 | Accuracy: 0.8143\n",
      "Fold 2 Log Loss: 0.39295 | Accuracy: 0.8039\n",
      "Fold 3 Log Loss: 0.38612 | Accuracy: 0.8137\n",
      "Fold 4 Log Loss: 0.36704 | Accuracy: 0.8222\n",
      "Fold 5 Log Loss: 0.39827 | Accuracy: 0.8038\n",
      "\n",
      "Overall CV Log Loss: 0.38395\n",
      "Overall CV Accuracy: 0.8116\n"
     ]
    }
   ],
   "source": [
    "from sklearn.model_selection import StratifiedKFold\n",
    "from sklearn.metrics import log_loss, accuracy_score\n",
    "import numpy as np\n",
    "\n",
    "# Initialize cross-validation\n",
    "cv = StratifiedKFold(n_splits=5, shuffle=True, random_state=42)\n",
    "oof_preds = np.zeros(len(train))\n",
    "test_preds = np.zeros(len(test))\n",
    "log_losses = []\n",
    "accuracies = []\n",
    "\n",
    "# Cross-validation loop\n",
    "for fold, (train_idx, val_idx) in enumerate(cv.split(X, y)):\n",
    "    X_train, y_train = X.iloc[train_idx], y.iloc[train_idx]\n",
    "    X_val, y_val = X.iloc[val_idx], y.iloc[val_idx]\n",
    "        \n",
    "    model = CatBoostClassifier(\n",
    "        verbose=0,\n",
    "        random_state=42,\n",
    "        cat_features=cat_feature_indices\n",
    "    )\n",
    "\n",
    "    \n",
    "    model.fit(X_train, y_train)\n",
    "    \n",
    "    val_probs = model.predict_proba(X_val)[:, 1]\n",
    "    val_preds = model.predict(X_val)\n",
    "    \n",
    "    fold_log_loss = log_loss(y_val, val_probs)\n",
    "    fold_accuracy = accuracy_score(y_val, val_preds)\n",
    "    \n",
    "    oof_preds[val_idx] = val_probs\n",
    "    test_preds += model.predict_proba(test)[:, 1] / cv.n_splits\n",
    "    \n",
    "    log_losses.append(fold_log_loss)\n",
    "    accuracies.append(fold_accuracy)\n",
    "    \n",
    "    print(f\"Fold {fold+1} Log Loss: {fold_log_loss:.5f} | Accuracy: {fold_accuracy:.4f}\")\n",
    "\n",
    "# Final CV results\n",
    "print(f\"\\nOverall CV Log Loss: {np.mean(log_losses):.5f}\")\n",
    "print(f\"Overall CV Accuracy: {np.mean(accuracies):.4f}\")\n"
   ]
  }
 ],
 "metadata": {
  "kernelspec": {
   "display_name": ".venv",
   "language": "python",
   "name": "python3"
  },
  "language_info": {
   "codemirror_mode": {
    "name": "ipython",
    "version": 3
   },
   "file_extension": ".py",
   "mimetype": "text/x-python",
   "name": "python",
   "nbconvert_exporter": "python",
   "pygments_lexer": "ipython3",
   "version": "3.11.0"
  }
 },
 "nbformat": 4,
 "nbformat_minor": 5
}
