{
 "cells": [
  {
   "cell_type": "markdown",
   "id": "bf55382b",
   "metadata": {},
   "source": [
    "### Data Cleaning"
   ]
  },
  {
   "cell_type": "code",
   "execution_count": 1,
   "id": "c62dcf70",
   "metadata": {},
   "outputs": [],
   "source": [
    "import pandas as pd\n",
    "\n",
    "# Load data\n",
    "train = pd.read_csv('../data/train.csv')\n",
    "test = pd.read_csv('../data/test.csv')\n",
    "\n"
   ]
  },
  {
   "cell_type": "markdown",
   "id": "cb4dbcbe",
   "metadata": {},
   "source": [
    "**Initial Data Overview**"
   ]
  },
  {
   "cell_type": "code",
   "execution_count": 2,
   "id": "f156cc21",
   "metadata": {},
   "outputs": [
    {
     "name": "stdout",
     "output_type": "stream",
     "text": [
      "Shape: (12970, 15)\n",
      "\n",
      "Missing Values:\n",
      "Transported     4277\n",
      "CryoSleep        310\n",
      "ShoppingMall     306\n",
      "Cabin            299\n",
      "VIP              296\n",
      "Name             294\n",
      "FoodCourt        289\n",
      "HomePlanet       288\n",
      "Spa              284\n",
      "Destination      274\n",
      "Age              270\n",
      "VRDeck           268\n",
      "RoomService      263\n",
      "PassengerId        0\n",
      "is_train           0\n",
      "dtype: int64\n",
      "\n",
      "Column Types:\n",
      "PassengerId      object\n",
      "HomePlanet       object\n",
      "CryoSleep        object\n",
      "Cabin            object\n",
      "Destination      object\n",
      "Age             float64\n",
      "VIP              object\n",
      "RoomService     float64\n",
      "FoodCourt       float64\n",
      "ShoppingMall    float64\n",
      "Spa             float64\n",
      "VRDeck          float64\n",
      "Name             object\n",
      "Transported      object\n",
      "is_train           bool\n",
      "dtype: object\n"
     ]
    }
   ],
   "source": [
    "# Concatenate train and test for unified cleaning\n",
    "train['is_train'] = True\n",
    "test['is_train'] = False\n",
    "combined = pd.concat([train, test], sort=False).reset_index(drop=True)\n",
    "\n",
    "# Quick structure and missing value overview\n",
    "print(\"Shape:\", combined.shape)\n",
    "print(\"\\nMissing Values:\")\n",
    "print(combined.isnull().sum().sort_values(ascending=False))\n",
    "\n",
    "print(\"\\nColumn Types:\")\n",
    "print(combined.dtypes)\n"
   ]
  },
  {
   "cell_type": "code",
   "execution_count": 3,
   "id": "2d0d2a43",
   "metadata": {},
   "outputs": [
    {
     "data": {
      "text/html": [
       "<div>\n",
       "<style scoped>\n",
       "    .dataframe tbody tr th:only-of-type {\n",
       "        vertical-align: middle;\n",
       "    }\n",
       "\n",
       "    .dataframe tbody tr th {\n",
       "        vertical-align: top;\n",
       "    }\n",
       "\n",
       "    .dataframe thead th {\n",
       "        text-align: right;\n",
       "    }\n",
       "</style>\n",
       "<table border=\"1\" class=\"dataframe\">\n",
       "  <thead>\n",
       "    <tr style=\"text-align: right;\">\n",
       "      <th></th>\n",
       "      <th>PassengerId</th>\n",
       "      <th>GroupID</th>\n",
       "      <th>Cabin</th>\n",
       "      <th>HomePlanet</th>\n",
       "      <th>ImputedGroupPlanet</th>\n",
       "    </tr>\n",
       "  </thead>\n",
       "  <tbody>\n",
       "    <tr>\n",
       "      <th>59</th>\n",
       "      <td>0064_02</td>\n",
       "      <td>0064</td>\n",
       "      <td>E/3/S</td>\n",
       "      <td>NaN</td>\n",
       "      <td>Mars</td>\n",
       "    </tr>\n",
       "    <tr>\n",
       "      <th>113</th>\n",
       "      <td>0119_01</td>\n",
       "      <td>0119</td>\n",
       "      <td>A/0/P</td>\n",
       "      <td>NaN</td>\n",
       "      <td>Europa</td>\n",
       "    </tr>\n",
       "    <tr>\n",
       "      <th>186</th>\n",
       "      <td>0210_01</td>\n",
       "      <td>0210</td>\n",
       "      <td>D/6/P</td>\n",
       "      <td>NaN</td>\n",
       "      <td>None</td>\n",
       "    </tr>\n",
       "    <tr>\n",
       "      <th>225</th>\n",
       "      <td>0242_01</td>\n",
       "      <td>0242</td>\n",
       "      <td>F/46/S</td>\n",
       "      <td>NaN</td>\n",
       "      <td>None</td>\n",
       "    </tr>\n",
       "    <tr>\n",
       "      <th>234</th>\n",
       "      <td>0251_01</td>\n",
       "      <td>0251</td>\n",
       "      <td>C/11/S</td>\n",
       "      <td>NaN</td>\n",
       "      <td>None</td>\n",
       "    </tr>\n",
       "    <tr>\n",
       "      <th>274</th>\n",
       "      <td>0303_01</td>\n",
       "      <td>0303</td>\n",
       "      <td>G/41/S</td>\n",
       "      <td>NaN</td>\n",
       "      <td>None</td>\n",
       "    </tr>\n",
       "    <tr>\n",
       "      <th>286</th>\n",
       "      <td>0315_01</td>\n",
       "      <td>0315</td>\n",
       "      <td>G/42/S</td>\n",
       "      <td>NaN</td>\n",
       "      <td>None</td>\n",
       "    </tr>\n",
       "    <tr>\n",
       "      <th>291</th>\n",
       "      <td>0321_01</td>\n",
       "      <td>0321</td>\n",
       "      <td>F/61/S</td>\n",
       "      <td>NaN</td>\n",
       "      <td>None</td>\n",
       "    </tr>\n",
       "    <tr>\n",
       "      <th>347</th>\n",
       "      <td>0382_01</td>\n",
       "      <td>0382</td>\n",
       "      <td>G/64/P</td>\n",
       "      <td>NaN</td>\n",
       "      <td>None</td>\n",
       "    </tr>\n",
       "    <tr>\n",
       "      <th>365</th>\n",
       "      <td>0402_01</td>\n",
       "      <td>0402</td>\n",
       "      <td>D/15/S</td>\n",
       "      <td>NaN</td>\n",
       "      <td>None</td>\n",
       "    </tr>\n",
       "  </tbody>\n",
       "</table>\n",
       "</div>"
      ],
      "text/plain": [
       "    PassengerId GroupID   Cabin HomePlanet ImputedGroupPlanet\n",
       "59      0064_02    0064   E/3/S        NaN               Mars\n",
       "113     0119_01    0119   A/0/P        NaN             Europa\n",
       "186     0210_01    0210   D/6/P        NaN               None\n",
       "225     0242_01    0242  F/46/S        NaN               None\n",
       "234     0251_01    0251  C/11/S        NaN               None\n",
       "274     0303_01    0303  G/41/S        NaN               None\n",
       "286     0315_01    0315  G/42/S        NaN               None\n",
       "291     0321_01    0321  F/61/S        NaN               None\n",
       "347     0382_01    0382  G/64/P        NaN               None\n",
       "365     0402_01    0402  D/15/S        NaN               None"
      ]
     },
     "execution_count": 3,
     "metadata": {},
     "output_type": "execute_result"
    }
   ],
   "source": [
    "# Add GroupID from PassengerId\n",
    "combined['GroupID'] = combined['PassengerId'].str.split('_').str[0]\n",
    "\n",
    "# Subset again now that GroupID exists\n",
    "missing_hp = combined[combined['HomePlanet'].isna()].copy()\n",
    "\n",
    "# Try to infer the group's HomePlanet using mode\n",
    "group_planet = (\n",
    "    combined.groupby('GroupID')['HomePlanet']\n",
    "    .agg(lambda x: x.mode().iloc[0] if x.notna().sum() else None)\n",
    ")\n",
    "\n",
    "# Map that to missing_hp rows\n",
    "missing_hp['ImputedGroupPlanet'] = missing_hp['GroupID'].map(group_planet)\n",
    "\n",
    "# Show a sample\n",
    "missing_hp[['PassengerId', 'GroupID', 'Cabin', 'HomePlanet', 'ImputedGroupPlanet']].head(10)\n"
   ]
  },
  {
   "cell_type": "markdown",
   "id": "96fecea2",
   "metadata": {},
   "source": [
    "Some missing values in HomePlanet can be confidently imputed from others in the same GroupID (like 0064 -> Mars, 0119 -> Europa).\n",
    "\n",
    "Others show up as None because that group has no known HomePlanet values to infer from."
   ]
  },
  {
   "cell_type": "code",
   "execution_count": 4,
   "id": "326094e2",
   "metadata": {},
   "outputs": [
    {
     "name": "stdout",
     "output_type": "stream",
     "text": [
      "Remaining missing HomePlanet values: 157\n",
      "HomePlanet value counts after imputation:\n",
      "HomePlanet\n",
      "Earth      6914\n",
      "Europa     3175\n",
      "Mars       2724\n",
      "Unknown     157\n",
      "Name: count, dtype: int64\n",
      "\n",
      "Missing Values:\n",
      "Transported     4277\n",
      "CryoSleep        310\n",
      "ShoppingMall     306\n",
      "Cabin            299\n",
      "VIP              296\n",
      "Name             294\n",
      "FoodCourt        289\n",
      "Spa              284\n",
      "Destination      274\n",
      "Age              270\n",
      "VRDeck           268\n",
      "RoomService      263\n",
      "HomePlanet         0\n",
      "PassengerId        0\n",
      "is_train           0\n",
      "GroupID            0\n",
      "dtype: int64\n"
     ]
    }
   ],
   "source": [
    "# Only fill HomePlanet where group-based inference succeeded\n",
    "combined.loc[combined['HomePlanet'].isna(), 'HomePlanet'] = (\n",
    "    combined.loc[combined['HomePlanet'].isna(), 'GroupID'].map(group_planet)\n",
    ")\n",
    "\n",
    "# Confirm how many are still missing\n",
    "remaining_missing = combined['HomePlanet'].isna().sum()\n",
    "print(f\"Remaining missing HomePlanet values: {remaining_missing}\")\n",
    "\n",
    "# Fill remaining missing HomePlanet values with 'Unknown'\n",
    "combined['HomePlanet'] = combined['HomePlanet'].fillna('Unknown')\n",
    "\n",
    "# Sanity check\n",
    "print(\"HomePlanet value counts after imputation:\")\n",
    "print(combined['HomePlanet'].value_counts(dropna=False))\n",
    "\n",
    "print(\"\\nMissing Values:\")\n",
    "print(combined.isnull().sum().sort_values(ascending=False))\n",
    "\n"
   ]
  },
  {
   "cell_type": "markdown",
   "id": "a1aab594",
   "metadata": {},
   "source": [
    "I think these next, in about this order:\n",
    "\n",
    "- Cabin: packed with info (deck/num/side), useful for feature engineering.\n",
    "\n",
    "- CryoSleep + VIP: Binary, easy to fill if correlated with spending.\n",
    "\n",
    "- Spending Columns: imputing 0s for missing values if CryoSleep = True or group-based.\n",
    "\n",
    "- Destination: Important categorical; might be inferrable from Cabin group or spending behavior.\n",
    "\n",
    "- Age: May have skewed distribution; good for binning or group median imputation.\n",
    "\n",
    "- Name: Low model impact, maybe drop or use surname if I want group detection.\n",
    "\n",
    "- Transported: Target, don’t touch in test set."
   ]
  },
  {
   "cell_type": "markdown",
   "id": "2b4067d6",
   "metadata": {},
   "source": [
    "Strategy for Cabin Imputation\n",
    "\n",
    "Step 1: Extract the parts\n",
    "\n",
    "- Even before imputing, we split it:"
   ]
  },
  {
   "cell_type": "code",
   "execution_count": 5,
   "id": "aea7f4bb",
   "metadata": {},
   "outputs": [],
   "source": [
    "# Only split if Cabin is not null\n",
    "cabin_split = combined['Cabin'].dropna().str.split('/', expand=True)\n",
    "\n",
    "# Reindex to match the full combined DataFrame\n",
    "combined['CabinDeck'] = cabin_split[0].reindex(combined.index)\n",
    "combined['CabinNum'] = pd.to_numeric(cabin_split[1].reindex(combined.index), errors='coerce')\n",
    "combined['CabinSide'] = cabin_split[2].reindex(combined.index)\n"
   ]
  },
  {
   "cell_type": "markdown",
   "id": "2e283e2b",
   "metadata": {},
   "source": [
    "Step 2: Add missing value flags\n"
   ]
  },
  {
   "cell_type": "code",
   "execution_count": 6,
   "id": "c9e582fa",
   "metadata": {},
   "outputs": [],
   "source": [
    "combined['Cabin_missing'] = combined['Cabin'].isna().astype(int)"
   ]
  },
  {
   "cell_type": "markdown",
   "id": "1ecc601f",
   "metadata": {},
   "source": [
    "Step 3: Group-based Imputation\n",
    "Using `GroupID` to fill missing `CabinDeck`, `CabinSide`, and even `CabinNum` if it looks clean:"
   ]
  },
  {
   "cell_type": "code",
   "execution_count": 7,
   "id": "956b9730",
   "metadata": {},
   "outputs": [],
   "source": [
    "# Fill deck/side/num from other members in the same group\n",
    "deck_map = combined.groupby('GroupID')['CabinDeck'].agg(lambda x: x.mode().iloc[0] if x.notna().sum() else None)\n",
    "side_map = combined.groupby('GroupID')['CabinSide'].agg(lambda x: x.mode().iloc[0] if x.notna().sum() else None)\n",
    "num_map  = combined.groupby('GroupID')['CabinNum'].median()\n",
    "\n",
    "# Apply group-based fill\n",
    "mask = combined['CabinDeck'].isna()\n",
    "combined.loc[mask, 'CabinDeck'] = combined.loc[mask, 'GroupID'].map(deck_map)\n",
    "\n",
    "mask = combined['CabinSide'].isna()\n",
    "combined.loc[mask, 'CabinSide'] = combined.loc[mask, 'GroupID'].map(side_map)\n",
    "\n",
    "mask = combined['CabinNum'].isna()\n",
    "combined.loc[mask, 'CabinNum'] = combined.loc[mask, 'GroupID'].map(num_map)\n"
   ]
  },
  {
   "cell_type": "markdown",
   "id": "2444d57f",
   "metadata": {},
   "source": [
    "Step 4: Fill remaining with 'Unknown' or new category"
   ]
  },
  {
   "cell_type": "code",
   "execution_count": 8,
   "id": "0c537aca",
   "metadata": {},
   "outputs": [],
   "source": [
    "combined['CabinDeck'] = combined['CabinDeck'].fillna('Unknown')\n",
    "combined['CabinSide'] = combined['CabinSide'].fillna('Unknown')\n",
    "combined['CabinNum'] = combined['CabinNum'].fillna(-1)  # or median, or leave as-is\n"
   ]
  },
  {
   "cell_type": "markdown",
   "id": "8223bd0a",
   "metadata": {},
   "source": [
    "Explore Cabinless Subgroup"
   ]
  },
  {
   "cell_type": "code",
   "execution_count": 9,
   "id": "88218260",
   "metadata": {},
   "outputs": [
    {
     "name": "stdout",
     "output_type": "stream",
     "text": [
      "CryoSleep\n",
      "False    170\n",
      "True     119\n",
      "Name: count, dtype: int64\n",
      "count      295.000000\n",
      "mean       299.684746\n",
      "std       1153.231254\n",
      "min          0.000000\n",
      "25%          0.000000\n",
      "50%          0.000000\n",
      "75%         33.000000\n",
      "max      14327.000000\n",
      "Name: RoomService, dtype: float64\n",
      "Destination\n",
      "TRAPPIST-1e      204\n",
      "55 Cancri e       64\n",
      "PSO J318.5-22     27\n",
      "Name: count, dtype: int64\n",
      "\n",
      "Missing Values:\n",
      "Transported      4277\n",
      "CryoSleep         310\n",
      "ShoppingMall      306\n",
      "Cabin             299\n",
      "VIP               296\n",
      "Name              294\n",
      "FoodCourt         289\n",
      "Spa               284\n",
      "Destination       274\n",
      "Age               270\n",
      "VRDeck            268\n",
      "RoomService       263\n",
      "PassengerId         0\n",
      "HomePlanet          0\n",
      "is_train            0\n",
      "GroupID             0\n",
      "CabinDeck           0\n",
      "CabinNum            0\n",
      "CabinSide           0\n",
      "Cabin_missing       0\n",
      "dtype: int64\n"
     ]
    }
   ],
   "source": [
    "no_cabin = combined[combined['Cabin_missing'] == 1]\n",
    "print(no_cabin['CryoSleep'].value_counts())\n",
    "print(no_cabin['RoomService'].describe())\n",
    "print(no_cabin['Destination'].value_counts())\n",
    "\n",
    "print(\"\\nMissing Values:\")\n",
    "print(combined.isnull().sum().sort_values(ascending=False))\n"
   ]
  },
  {
   "cell_type": "markdown",
   "id": "5cd70e3f",
   "metadata": {},
   "source": [
    "    CryoSleep\n",
    "    False    170\n",
    "    True     119\n",
    "\n",
    "~41% of these passengers were in CryoSleep, which is higher than the global average (~35%). Not huge, but maybe suggestive...\n",
    "\n",
    "    RoomService Spending\n",
    "    count      295.00\n",
    "    mean       299.68\n",
    "    std       1153.23\n",
    "    min          0.00\n",
    "    25%          0.00\n",
    "    50%          0.00\n",
    "    75%         33.00\n",
    "    max      14327.00\n",
    "\n",
    "50% of them spent zero on RoomService - that's a big deal.\n",
    "\n",
    "Upper bound is high, 14k+, but the mean is misleading due to outliers.\n",
    "\n",
    "Most didn’t use RoomService — strong indicator they didn’t have cabin privileges.\n",
    "\n",
    "    Destinations\n",
    "    TRAPPIST-1e      204\n",
    "    55 Cancri e       64\n",
    "    PSO J318.5-22     27\n",
    "\n",
    "This roughly mirrors the full distribution where TRAPPIST-1e dominates, so destination isn’t a strong clue here.\n",
    "\n",
    "The “Cabinless Class” Hypothesis\n",
    "\n",
    "- Missing Cabin info clusters with low RoomService, more CryoSleep, and no spending on amenities.\n",
    "\n",
    "- Suggests a class of passengers without cabins — possibly low-budget, cargo-hold sleepers, or shared sleep pods."
   ]
  },
  {
   "cell_type": "code",
   "execution_count": 10,
   "id": "5d40b0f4",
   "metadata": {},
   "outputs": [
    {
     "data": {
      "text/plain": [
       "Cabin_missing  NoAmenities\n",
       "0              0              7350\n",
       "               1              5321\n",
       "1              0               163\n",
       "               1               136\n",
       "Name: count, dtype: int64"
      ]
     },
     "execution_count": 10,
     "metadata": {},
     "output_type": "execute_result"
    }
   ],
   "source": [
    "combined['NoAmenities'] = (\n",
    "    (combined['RoomService'].fillna(0) == 0) &\n",
    "    (combined['FoodCourt'].fillna(0) == 0) &\n",
    "    (combined['ShoppingMall'].fillna(0) == 0) &\n",
    "    (combined['Spa'].fillna(0) == 0) &\n",
    "    (combined['VRDeck'].fillna(0) == 0)\n",
    ").astype(int)\n",
    "\n",
    "combined[['Cabin_missing', 'NoAmenities']].value_counts()\n"
   ]
  },
  {
   "cell_type": "markdown",
   "id": "34115d8c",
   "metadata": {},
   "source": [
    "```text\n",
    "Cabin_mis  NoAmen  count\n",
    "0          0       7350  : These people Had a cabin and used at least 1 amenity\n",
    "0          1       5321  : Had a cabin, used No amenities\n",
    "1          0       163  : No cabin, still used Some amenities (odd)\n",
    "1          1       136  : No cabin and No amenities (true “cabinless class”?)\n",
    "```\n",
    "\n",
    "Insights:\n",
    "- 5321 passengers had a cabin but spent nothing on amenities : cannot assume “no spending” means “no cabin”.\n",
    "\n",
    "- Only 136 passengers are fully “Cabinless + No Amenities” : this is the strongest evidence of a low-budget, cryo-storage cohort.\n",
    "\n",
    "Next:\n",
    "\n",
    "- Flag those 136 rows as a LikelyBudgetPassenger\n",
    "\n",
    "- Investigate the 163 rows that have no cabin but used amenities - might reveal data noise or shared cabins?\n",
    "\n",
    "Step 1: Flag Obvious Budget Passengers\n"
   ]
  },
  {
   "cell_type": "code",
   "execution_count": 11,
   "id": "ec808813",
   "metadata": {},
   "outputs": [],
   "source": [
    "combined['LikelyBudgetPassenger'] = (\n",
    "    (combined['Cabin_missing'] == 1) &\n",
    "    (combined['NoAmenities'] == 1) &\n",
    "    (combined['CryoSleep'] == True)\n",
    ")\n"
   ]
  },
  {
   "cell_type": "markdown",
   "id": "4624d766",
   "metadata": {},
   "source": [
    "Step 2: Investigate the Oddballs\n",
    "\n",
    "People with:\n",
    "\n",
    "- Cabin missing\n",
    "\n",
    "- Used amenities"
   ]
  },
  {
   "cell_type": "code",
   "execution_count": 12,
   "id": "0e0db1ee",
   "metadata": {},
   "outputs": [
    {
     "name": "stdout",
     "output_type": "stream",
     "text": [
      "    PassengerId  RoomService  FoodCourt  ShoppingMall     Spa  VRDeck GroupID  \\\n",
      "15      0012_01         32.0        0.0         876.0     0.0     0.0    0012   \n",
      "103     0110_01          0.0      410.0           6.0  3929.0   764.0    0110   \n",
      "222     0239_01        637.0        0.0           0.0    92.0   319.0    0239   \n",
      "251     0278_01          0.0        0.0           0.0   888.0     NaN    0278   \n",
      "280     0310_01          NaN      230.0           0.0  4476.0   241.0    0310   \n",
      "295     0327_01         17.0        0.0         784.0     0.0     2.0    0327   \n",
      "314     0348_02        520.0        0.0        1865.0     0.0     0.0    0348   \n",
      "462     0502_01         10.0        0.0         817.0   471.0     0.0    0502   \n",
      "699     0732_01          0.0      714.0           2.0     0.0     0.0    0732   \n",
      "785     0823_02          0.0        0.0         739.0     0.0     0.0    0823   \n",
      "\n",
      "    Cabin  \n",
      "15    NaN  \n",
      "103   NaN  \n",
      "222   NaN  \n",
      "251   NaN  \n",
      "280   NaN  \n",
      "295   NaN  \n",
      "314   NaN  \n",
      "462   NaN  \n",
      "699   NaN  \n",
      "785   NaN  \n"
     ]
    }
   ],
   "source": [
    "odd_cabinless = combined[(combined['Cabin_missing'] == 1) & (combined['NoAmenities'] == 0)]\n",
    "print(odd_cabinless[['PassengerId', 'RoomService', 'FoodCourt', 'ShoppingMall', 'Spa', 'VRDeck', 'GroupID', 'Cabin']].head(10))\n"
   ]
  },
  {
   "cell_type": "markdown",
   "id": "25657a46",
   "metadata": {},
   "source": [
    "These 10 Are Not Budget Passengers\n",
    "They used amenities (some heavily), yet still have Cabin == NaN.\n",
    "\n",
    "So they're:\n",
    "\n",
    "- Not cryo-sleepers\n",
    "\n",
    "- Spent money\n",
    "\n",
    "- Some have full luxury packages\n",
    "\n",
    "- Still no assigned cabin\n",
    "\n",
    "This is weird. It could mean:\n",
    "\n",
    "- They had a cabin, but it wasn't recorded properly\n",
    "\n",
    "- They're edge cases: rich but unassigned? teleported? admin glitch?\n",
    "\n",
    "Step 3 — Group-Based Cabin Imputation\n",
    "\n",
    "Infer Cabin using others in the same group who do have one.\n",
    "\n",
    "- Do Shared Surnames Correlate with Cabin Similarities?"
   ]
  },
  {
   "cell_type": "code",
   "execution_count": 13,
   "id": "33a3e65e",
   "metadata": {},
   "outputs": [
    {
     "name": "stdout",
     "output_type": "stream",
     "text": [
      "Missing Cabins potentially inferrable by surname: 292\n"
     ]
    }
   ],
   "source": [
    "import numpy as np\n",
    "\n",
    "# Extract surname from Name\n",
    "combined['Surname'] = combined['Name'].str.split().str[-1]\n",
    "\n",
    "# For surnames with more than one person and at least one valid Cabin\n",
    "surname_cabin_groups = (\n",
    "    combined[~combined['Cabin'].isna()]\n",
    "    .groupby('Surname')['Cabin']\n",
    "    .agg(lambda x: x.mode()[0] if len(set(x)) == 1 else np.nan)\n",
    ")\n",
    "\n",
    "# Check how many missing Cabin rows could get filled by surname\n",
    "inferred_by_surname = (\n",
    "    combined['Cabin'].isna() &\n",
    "    combined['Surname'].isin(surname_cabin_groups.index)\n",
    ")\n",
    "\n",
    "print(f\"Missing Cabins potentially inferrable by surname: {inferred_by_surname.sum()}\")\n"
   ]
  },
  {
   "cell_type": "markdown",
   "id": "45e03d27",
   "metadata": {},
   "source": [
    "Wow... Yeh they do.\n",
    "\n",
    "Yep - 292 missing cabins potentially inferrable from surname. That’s nearly the full missing set.\n",
    "\n",
    "That tells us:\n",
    "\n",
    "- A large chunk of missing Cabin values likely come from duplicated entries within families.\n",
    "\n",
    "- They aren't noise - they’re structured, and we can recover them cleanly.\n"
   ]
  },
  {
   "cell_type": "code",
   "execution_count": 14,
   "id": "ee69412b",
   "metadata": {},
   "outputs": [
    {
     "name": "stdout",
     "output_type": "stream",
     "text": [
      "Remaining missing Cabins: 270\n"
     ]
    }
   ],
   "source": [
    "# Fill in missing Cabin values using surname inference\n",
    "combined['Cabin'] = combined.apply(\n",
    "    lambda row: surname_cabin_groups[row['Surname']]\n",
    "    if pd.isna(row['Cabin']) and row['Surname'] in surname_cabin_groups and pd.notna(surname_cabin_groups[row['Surname']])\n",
    "    else row['Cabin'],\n",
    "    axis=1\n",
    ")\n",
    "\n",
    "print(f\"Remaining missing Cabins: {combined['Cabin'].isna().sum()}\")\n"
   ]
  },
  {
   "cell_type": "markdown",
   "id": "b235b321",
   "metadata": {},
   "source": [
    "Interpreting the Remaining 270:\n",
    "\n",
    "These passengers don’t share a surname with any known Cabin.\n",
    "\n",
    "They’re either:\n",
    "\n",
    "- Solo travelers,\n",
    "\n",
    "- One-off names,\n",
    "\n",
    "- Or from groups where no member has a known Cabin.\n",
    "\n",
    "We’re basically out of info to confidently infer more. Time to flag the remaining as 'Unknown'\n",
    "\n",
    "Step 4: Flag and Fill in the remaining Missing Cabins with Unknown"
   ]
  },
  {
   "cell_type": "code",
   "execution_count": 15,
   "id": "8bded89c",
   "metadata": {},
   "outputs": [
    {
     "name": "stdout",
     "output_type": "stream",
     "text": [
      "Remaining missing Cabins: 0\n"
     ]
    }
   ],
   "source": [
    "# Create a binary missing flag\n",
    "combined['Cabin_missing'] = combined['Cabin'].isna().astype(int)\n",
    "\n",
    "# Fill remaining NaNs as 'Unknown' (so that downstream models don't choke)\n",
    "combined['Cabin'] = combined['Cabin'].fillna('Unknown')\n",
    "\n",
    "print(f\"Remaining missing Cabins: {combined['Cabin'].isna().sum()}\")"
   ]
  },
  {
   "cell_type": "code",
   "execution_count": 16,
   "id": "b348c0d2",
   "metadata": {},
   "outputs": [
    {
     "name": "stdout",
     "output_type": "stream",
     "text": [
      "\n",
      "Missing Values:\n",
      "Transported              4277\n",
      "CryoSleep                 310\n",
      "ShoppingMall              306\n",
      "VIP                       296\n",
      "Name                      294\n",
      "Surname                   294\n",
      "FoodCourt                 289\n",
      "Spa                       284\n",
      "Destination               274\n",
      "Age                       270\n",
      "VRDeck                    268\n",
      "RoomService               263\n",
      "Cabin                       0\n",
      "PassengerId                 0\n",
      "HomePlanet                  0\n",
      "is_train                    0\n",
      "GroupID                     0\n",
      "CabinNum                    0\n",
      "CabinDeck                   0\n",
      "CabinSide                   0\n",
      "Cabin_missing               0\n",
      "NoAmenities                 0\n",
      "LikelyBudgetPassenger       0\n",
      "dtype: int64\n"
     ]
    }
   ],
   "source": [
    "print(\"\\nMissing Values:\")\n",
    "print(combined.isnull().sum().sort_values(ascending=False))"
   ]
  },
  {
   "cell_type": "markdown",
   "id": "a15d78b7",
   "metadata": {},
   "source": [
    "Next Step: Impute CryoSleep"
   ]
  },
  {
   "cell_type": "code",
   "execution_count": 17,
   "id": "9c091275",
   "metadata": {},
   "outputs": [
    {
     "name": "stdout",
     "output_type": "stream",
     "text": [
      "Remaining CryoSleep NaNs: 0\n",
      "CryoSleep\n",
      "False    8253\n",
      "True     4717\n",
      "Name: count, dtype: int64\n"
     ]
    }
   ],
   "source": [
    "# Step: Impute CryoSleep from amenities\n",
    "amenity_cols = ['RoomService', 'FoodCourt', 'ShoppingMall', 'Spa', 'VRDeck']\n",
    "\n",
    "# Ensure NaNs are treated as 0 for summing\n",
    "combined[amenity_cols] = combined[amenity_cols].fillna(0)\n",
    "\n",
    "# Rule: if all amenities == 0 → likely CryoSleep = True\n",
    "combined.loc[\n",
    "    combined['CryoSleep'].isna() & (combined[amenity_cols].sum(axis=1) == 0),\n",
    "    'CryoSleep'\n",
    "] = True\n",
    "\n",
    "# Rule: if any amenities > 0 → likely CryoSleep = False\n",
    "combined.loc[\n",
    "    combined['CryoSleep'].isna() & (combined[amenity_cols].sum(axis=1) > 0),\n",
    "    'CryoSleep'\n",
    "] = False\n",
    "\n",
    "# Add flag for whether CryoSleep was missing initially\n",
    "combined['CryoSleep_missing'] = combined['CryoSleep'].isna().astype(int)\n",
    "\n",
    "# Fill any remaining with 'Unknown' if needed later (optional)\n",
    "# combined['CryoSleep'] = combined['CryoSleep'].fillna('Unknown')\n",
    "\n",
    "# Check result\n",
    "print(\"Remaining CryoSleep NaNs:\", combined['CryoSleep'].isna().sum())\n",
    "print(combined['CryoSleep'].value_counts(dropna=False))\n"
   ]
  },
  {
   "cell_type": "markdown",
   "id": "d95b3499",
   "metadata": {},
   "source": [
    "\n",
    "Doing the amenity spend columns next (RoomService, FoodCourt, ShoppingMall, Spa, VRDeck).\n",
    "\n",
    "Here's the logic:\n",
    "\n",
    "Strategy:\n",
    "\n",
    "- If CryoSleep == True: they logically shouldn't have spent anything. Set to 0.\n",
    "\n",
    "- Else: missing values likely mean they didn't spend : impute with 0, and flag as missing."
   ]
  },
  {
   "cell_type": "code",
   "execution_count": 18,
   "id": "3dfcdb75",
   "metadata": {},
   "outputs": [
    {
     "name": "stdout",
     "output_type": "stream",
     "text": [
      "Remaining NaNs in amenities:\n",
      "RoomService     0\n",
      "FoodCourt       0\n",
      "ShoppingMall    0\n",
      "Spa             0\n",
      "VRDeck          0\n",
      "dtype: int64\n"
     ]
    }
   ],
   "source": [
    "# List of amenity columns\n",
    "amenity_cols = ['RoomService', 'FoodCourt', 'ShoppingMall', 'Spa', 'VRDeck']\n",
    "\n",
    "for col in amenity_cols:\n",
    "    # Flag missing\n",
    "    combined[f'{col}_missing'] = combined[col].isna().astype(int)\n",
    "\n",
    "    # Impute 0 if CryoSleep is True (they shouldn't have any charges)\n",
    "    combined.loc[(combined['CryoSleep'] == True) & (combined[col].isna()), col] = 0\n",
    "\n",
    "    # Impute remaining NaNs with 0 as likely non-use\n",
    "    combined[col] = combined[col].fillna(0)\n",
    "\n",
    "# Check post-imputation\n",
    "print(\"Remaining NaNs in amenities:\")\n",
    "print(combined[amenity_cols].isna().sum())\n"
   ]
  },
  {
   "cell_type": "markdown",
   "id": "e350ada5",
   "metadata": {},
   "source": [
    "Let’s do a correlation scan of VIP (as binary) against everything else; numeric and encoded categoricals, to surface any subtle patterns."
   ]
  },
  {
   "cell_type": "code",
   "execution_count": 19,
   "id": "18011856",
   "metadata": {},
   "outputs": [
    {
     "name": "stdout",
     "output_type": "stream",
     "text": [
      "VIP_int                  1.000000\n",
      "TotalSpend               0.168699\n",
      "FoodCourt                0.126770\n",
      "VRDeck                   0.112131\n",
      "CabinNum                -0.090838\n",
      "NoAmenities             -0.087889\n",
      "Spa                      0.082371\n",
      "Age                      0.082068\n",
      "RoomService              0.060688\n",
      "ShoppingMall             0.023868\n",
      "is_train                 0.018635\n",
      "LikelyBudgetPassenger   -0.014322\n",
      "Cabin_missing            0.001532\n",
      "CryoSleep_missing             NaN\n",
      "RoomService_missing           NaN\n",
      "FoodCourt_missing             NaN\n",
      "ShoppingMall_missing          NaN\n",
      "Spa_missing                   NaN\n",
      "VRDeck_missing                NaN\n",
      "Name: VIP_int, dtype: float64\n"
     ]
    },
    {
     "data": {
      "image/png": "[encoded data removed]",
      "text/plain": [
       "<Figure size 800x1000 with 2 Axes>"
      ]
     },
     "metadata": {},
     "output_type": "display_data"
    }
   ],
   "source": [
    "# Encode VIP as int:\n",
    "combined['VIP_int'] = combined['VIP'].map({True: 1, False: 0})\n",
    "\n",
    "# Make sure TotalSpend is defined:\n",
    "amenities = ['RoomService', 'FoodCourt', 'ShoppingMall', 'Spa', 'VRDeck']\n",
    "combined['TotalSpend'] = combined[amenities].sum(axis=1)\n",
    "\n",
    "# Grab numeric features:\n",
    "numeric_cols = combined.select_dtypes(include=['int64', 'float64', 'bool']).columns\n",
    "correlations = combined[numeric_cols].corr()['VIP_int'].sort_values(key=abs, ascending=False)\n",
    "print(correlations)\n",
    "\n",
    "# Visual inspection\n",
    "import seaborn as sns\n",
    "import matplotlib.pyplot as plt\n",
    "\n",
    "plt.figure(figsize=(8,10))\n",
    "sns.heatmap(combined[numeric_cols].corr()[['VIP_int']].sort_values(by='VIP_int', ascending=False), annot=True)\n",
    "plt.title('Correlation with VIP Status')\n",
    "plt.show()\n"
   ]
  },
  {
   "cell_type": "markdown",
   "id": "1d45c444",
   "metadata": {},
   "source": [
    "| Feature                | Correlation (VIP) | Comment                                                                                                        |\n",
    "| ---------------------- | ----------------- | -------------------------------------------------------------------------------------------------------------- |\n",
    "| `TotalSpend`           | **0.17**          | Most predictive. Not huge, but signal is there.                                                                |\n",
    "| `FoodCourt` / `VRDeck` | \\~0.11–0.13       | Luxury amenities = more likely VIP.                                                                            |\n",
    "| `CabinNum`             | -0.09             | Negative correlation → lower-numbered cabins more likely to be VIP. Maybe cabins were assigned in price tiers. |\n",
    "| `NoAmenities`          | -0.088            | Strong hint: no spend = likely not VIP.                                                                        |\n",
    "| `Age`, `Spa`           | \\~0.08            | Modest signal — older travelers and spa users skew slightly toward VIP.                                        |\n",
    "\n",
    "\n",
    "Infer VIP Status\n",
    "Here’s how we can approach filling in missing VIP values:\n",
    "\n",
    "1. Cabin Mates (high confidence)\n",
    "If a missing-VIP passenger shares a `Cabin` with a known VIP, assume the same status.\n",
    "\n",
    "2. Spend-Based Heuristic (medium confidence)\n",
    "If `TotalSpend` is above a certain percentile, and `NoAmenities == False`, then likely VIP.\n",
    "\n",
    "Let’s test this:"
   ]
  },
  {
   "cell_type": "code",
   "execution_count": 20,
   "id": "65150e35",
   "metadata": {},
   "outputs": [
    {
     "name": "stdout",
     "output_type": "stream",
     "text": [
      "VIP 75th percentile spend: 6206.0\n",
      "Non-VIP 75th percentile spend: 1382.0\n"
     ]
    }
   ],
   "source": [
    "# VIP spend distribution:\n",
    "vip_spend = combined.loc[combined['VIP'] == True, 'TotalSpend']\n",
    "nonvip_spend = combined.loc[combined['VIP'] == False, 'TotalSpend']\n",
    "\n",
    "# Quick percentiles\n",
    "print(\"VIP 75th percentile spend:\", vip_spend.quantile(0.75))\n",
    "print(\"Non-VIP 75th percentile spend:\", nonvip_spend.quantile(0.75))\n"
   ]
  },
  {
   "cell_type": "markdown",
   "id": "f437c85a",
   "metadata": {},
   "source": [
    "Breakdown:\n",
    "\n",
    "- VIPs 75th percentile spend: 6206\n",
    "\n",
    "- Non-VIPs 75th percentile spend: 1382\n",
    "\n",
    "So spending over **6k** is rare for non-VIPs and normal for VIPs. That gives us strong separation.\n",
    "\n",
    "Heuristic Rules for Inference:\n",
    "\n",
    "1. Cabin-mate rule (highest confidence):\n",
    "\n",
    "(Use `ffill` and `bfill` in case passengers with the same cabin are not in consecutive rows.)"
   ]
  },
  {
   "cell_type": "code",
   "execution_count": 21,
   "id": "fc770656",
   "metadata": {},
   "outputs": [
    {
     "name": "stderr",
     "output_type": "stream",
     "text": [
      "C:\\Users\\andre\\AppData\\Local\\Temp\\ipykernel_10236\\1921186613.py:2: FutureWarning: Downcasting object dtype arrays on .fillna, .ffill, .bfill is deprecated and will change in a future version. Call result.infer_objects(copy=False) instead. To opt-in to the future behavior, set `pd.set_option('future.no_silent_downcasting', True)`\n",
      "  cabin_vip_map = combined.groupby('Cabin')['VIP'].transform(lambda x: x.ffill().bfill())\n"
     ]
    }
   ],
   "source": [
    "# Fill missing VIPs based on cabinmates:\n",
    "cabin_vip_map = combined.groupby('Cabin')['VIP'].transform(lambda x: x.ffill().bfill())\n",
    "combined['VIP_inferred_cabin'] = combined['VIP']\n",
    "combined.loc[combined['VIP'].isna(), 'VIP_inferred_cabin'] = cabin_vip_map\n"
   ]
  },
  {
   "cell_type": "markdown",
   "id": "3efe7b35",
   "metadata": {},
   "source": [
    "2. Spend-based inference (fallback):"
   ]
  },
  {
   "cell_type": "code",
   "execution_count": 22,
   "id": "869a927c",
   "metadata": {},
   "outputs": [],
   "source": [
    "# Define threshold from earlier:\n",
    "likely_vip_spend_thresh = 6206  # from VIP 75th percentile\n",
    "\n",
    "# Only apply to rows where VIP is still NaN:\n",
    "high_spender_mask = (\n",
    "    combined['VIP'].isna() &\n",
    "    (combined['TotalSpend'] >= likely_vip_spend_thresh) &\n",
    "    (combined['NoAmenities'] == False)\n",
    ")\n",
    "\n",
    "# Fill in those with likely VIP = True:\n",
    "combined.loc[high_spender_mask, 'VIP_inferred_cabin'] = True\n"
   ]
  },
  {
   "cell_type": "code",
   "execution_count": null,
   "id": "79537852",
   "metadata": {},
   "outputs": [],
   "source": []
  },
  {
   "cell_type": "code",
   "execution_count": 23,
   "id": "5ad02868",
   "metadata": {},
   "outputs": [
    {
     "name": "stdout",
     "output_type": "stream",
     "text": [
      "Remaining missing VIPs: 184\n",
      "Inferred VIPs: 112 out of 296 (37.84%)\n"
     ]
    }
   ],
   "source": [
    "# Total remaining NaNs after inference\n",
    "remaining_missing_vips = combined['VIP_inferred_cabin'].isna().sum()\n",
    "print(f\"Remaining missing VIPs: {remaining_missing_vips}\")\n",
    "\n",
    "initial_missing_vips = combined['VIP'].isna().sum()\n",
    "inferred_vips = initial_missing_vips - remaining_missing_vips\n",
    "print(f\"Inferred VIPs: {inferred_vips} out of {initial_missing_vips} ({(inferred_vips / initial_missing_vips * 100):.2f}%)\")\n",
    "\n"
   ]
  },
  {
   "cell_type": "markdown",
   "id": "02a845b7",
   "metadata": {},
   "source": [
    "Inference confidence tracker:"
   ]
  },
  {
   "cell_type": "code",
   "execution_count": 24,
   "id": "e0519701",
   "metadata": {},
   "outputs": [
    {
     "name": "stdout",
     "output_type": "stream",
     "text": [
      "VIP_confidence  VIP_inferred_cabin\n",
      "high_cabin      False                    90\n",
      "known           False                 12401\n",
      "                True                    273\n",
      "medium_spend    True                     22\n",
      "missing         NaN                     184\n",
      "Name: count, dtype: int64\n"
     ]
    }
   ],
   "source": [
    "# Initialize with 'known'\n",
    "combined['VIP_confidence'] = 'known'\n",
    "\n",
    "# Mark cabin-based inference\n",
    "combined.loc[combined['VIP'].isna() & cabin_vip_map.notna(), 'VIP_confidence'] = 'high_cabin'\n",
    "\n",
    "# Mark spend-based inference (only if still NaN)\n",
    "combined.loc[high_spender_mask, 'VIP_confidence'] = 'medium_spend'\n",
    "\n",
    "# Fill remaining missing with NaN confidence\n",
    "combined.loc[combined['VIP_inferred_cabin'].isna(), 'VIP_confidence'] = 'missing'\n",
    "\n",
    "# Sanity breakdown\n",
    "vip_check = combined.groupby('VIP_confidence')['VIP_inferred_cabin'].value_counts(dropna=False)\n",
    "print(vip_check)\n",
    "\n"
   ]
  },
  {
   "cell_type": "code",
   "execution_count": 25,
   "id": "aaf23090",
   "metadata": {},
   "outputs": [
    {
     "name": "stdout",
     "output_type": "stream",
     "text": [
      "VIP_confidence  VIP_inferred_cabin\n",
      "high_cabin      False                    90\n",
      "known           False                 12401\n",
      "                True                    273\n",
      "medium_spend    True                     22\n",
      "missing         NaN                     184\n",
      "Name: count, dtype: int64\n"
     ]
    }
   ],
   "source": [
    "# VIP Confidence Summary\n",
    "vip_confidence_summary = combined.groupby('VIP_confidence')['VIP_inferred_cabin'].value_counts(dropna=False)\n",
    "print(vip_confidence_summary)\n"
   ]
  },
  {
   "cell_type": "markdown",
   "id": "9df35c4b",
   "metadata": {},
   "source": [
    "create a single cleaned column from all this."
   ]
  },
  {
   "cell_type": "code",
   "execution_count": 26,
   "id": "f8136ec8",
   "metadata": {},
   "outputs": [
    {
     "name": "stdout",
     "output_type": "stream",
     "text": [
      "Remaining VIP_cleaned NaNs: 184\n"
     ]
    }
   ],
   "source": [
    "# Final cleaned VIP column\n",
    "combined['VIP_cleaned'] = combined['VIP']\n",
    "\n",
    "# Fill with inferred where appropriate\n",
    "combined.loc[combined['VIP_confidence'] == 'medium_spend', 'VIP_cleaned'] = True\n",
    "combined.loc[combined['VIP_confidence'] == 'high_cabin', 'VIP_cleaned'] = False\n",
    "\n",
    "# Still some NaNs left?\n",
    "print('Remaining VIP_cleaned NaNs:', combined['VIP_cleaned'].isna().sum())\n",
    "# Drop redundant columns\n",
    "combined.drop(['VIP', 'VIP_int', 'VIP_inferred_cabin'], axis=1, inplace=True)\n"
   ]
  },
  {
   "cell_type": "code",
   "execution_count": 27,
   "id": "50c0ae0f",
   "metadata": {},
   "outputs": [
    {
     "name": "stdout",
     "output_type": "stream",
     "text": [
      "\n",
      "Missing Values:\n",
      "Transported              4277\n",
      "Name                      294\n",
      "Surname                   294\n",
      "Destination               274\n",
      "Age                       270\n",
      "VIP_cleaned               184\n",
      "HomePlanet                  0\n",
      "RoomService                 0\n",
      "Cabin                       0\n",
      "FoodCourt                   0\n",
      "ShoppingMall                0\n",
      "VRDeck                      0\n",
      "Spa                         0\n",
      "CryoSleep                   0\n",
      "PassengerId                 0\n",
      "GroupID                     0\n",
      "is_train                    0\n",
      "CabinSide                   0\n",
      "CabinDeck                   0\n",
      "Cabin_missing               0\n",
      "NoAmenities                 0\n",
      "LikelyBudgetPassenger       0\n",
      "CabinNum                    0\n",
      "CryoSleep_missing           0\n",
      "RoomService_missing         0\n",
      "ShoppingMall_missing        0\n",
      "FoodCourt_missing           0\n",
      "Spa_missing                 0\n",
      "VRDeck_missing              0\n",
      "TotalSpend                  0\n",
      "VIP_confidence              0\n",
      "dtype: int64\n"
     ]
    }
   ],
   "source": [
    "print(\"\\nMissing Values:\")\n",
    "print(combined.isnull().sum().sort_values(ascending=False))"
   ]
  },
  {
   "cell_type": "markdown",
   "id": "e73c1ea2",
   "metadata": {},
   "source": [
    "Let's see if it's safe to guess the rest as false."
   ]
  },
  {
   "cell_type": "code",
   "execution_count": 28,
   "id": "8c81162c",
   "metadata": {},
   "outputs": [
    {
     "name": "stdout",
     "output_type": "stream",
     "text": [
      "VIP Rate: 2.27%\n"
     ]
    }
   ],
   "source": [
    "vip_rate = (combined['VIP_cleaned'] == True).sum() / len(combined)\n",
    "print(f\"VIP Rate: {vip_rate:.2%}\")\n"
   ]
  },
  {
   "cell_type": "markdown",
   "id": "c25bf8dc",
   "metadata": {},
   "source": [
    "VIP Rate: 2.27% : very rare class\n",
    "\n",
    "- Remaining **NaNs**: 184\n",
    "\n",
    "- Already inferred 112 likely VIPs (~38% of them) using patterns in spend and cabin.\n",
    "\n",
    "- Therefore... filling the remaining **NaNs** as `False` is statistically safe and reflects the data distribution."
   ]
  },
  {
   "cell_type": "code",
   "execution_count": 29,
   "id": "26f86c87",
   "metadata": {},
   "outputs": [
    {
     "name": "stderr",
     "output_type": "stream",
     "text": [
      "C:\\Users\\andre\\AppData\\Local\\Temp\\ipykernel_10236\\537670405.py:1: FutureWarning: Downcasting object dtype arrays on .fillna, .ffill, .bfill is deprecated and will change in a future version. Call result.infer_objects(copy=False) instead. To opt-in to the future behavior, set `pd.set_option('future.no_silent_downcasting', True)`\n",
      "  combined['VIP_cleaned'] = combined['VIP_cleaned'].fillna(False)\n"
     ]
    }
   ],
   "source": [
    "combined['VIP_cleaned'] = combined['VIP_cleaned'].fillna(False)\n",
    "combined['VIP_confidence'] = combined['VIP_confidence'].replace({np.nan: 'assumed_false'})\n"
   ]
  },
  {
   "cell_type": "code",
   "execution_count": 30,
   "id": "3963d7c9",
   "metadata": {},
   "outputs": [
    {
     "name": "stdout",
     "output_type": "stream",
     "text": [
      "\n",
      "Missing Values:\n",
      "Transported              4277\n",
      "Name                      294\n",
      "Surname                   294\n",
      "Destination               274\n",
      "Age                       270\n",
      "CryoSleep                   0\n",
      "HomePlanet                  0\n",
      "RoomService                 0\n",
      "Cabin                       0\n",
      "FoodCourt                   0\n",
      "ShoppingMall                0\n",
      "VRDeck                      0\n",
      "Spa                         0\n",
      "is_train                    0\n",
      "PassengerId                 0\n",
      "GroupID                     0\n",
      "CabinDeck                   0\n",
      "CabinSide                   0\n",
      "CabinNum                    0\n",
      "Cabin_missing               0\n",
      "NoAmenities                 0\n",
      "LikelyBudgetPassenger       0\n",
      "CryoSleep_missing           0\n",
      "RoomService_missing         0\n",
      "FoodCourt_missing           0\n",
      "ShoppingMall_missing        0\n",
      "Spa_missing                 0\n",
      "VRDeck_missing              0\n",
      "TotalSpend                  0\n",
      "VIP_confidence              0\n",
      "VIP_cleaned                 0\n",
      "dtype: int64\n"
     ]
    }
   ],
   "source": [
    "print(\"\\nMissing Values:\")\n",
    "print(combined.isnull().sum().sort_values(ascending=False))"
   ]
  },
  {
   "cell_type": "markdown",
   "id": "45372e7d",
   "metadata": {},
   "source": [
    "Immediate Next Steps:\n",
    "\n",
    "Destination:\n",
    "\n",
    "- Try inferring based on GroupID or Surname (like we did for HomePlanet).\n",
    "\n",
    "- If we can’t infer: check most common within similar groups or flag and fill with mode."
   ]
  },
  {
   "cell_type": "code",
   "execution_count": 31,
   "id": "2e2bec0b",
   "metadata": {},
   "outputs": [
    {
     "name": "stdout",
     "output_type": "stream",
     "text": [
      "Missing Destinations: 274\n",
      "Unique Destinations: ['TRAPPIST-1e' 'PSO J318.5-22' '55 Cancri e']\n"
     ]
    }
   ],
   "source": [
    "print(\"Missing Destinations:\", combined['Destination'].isna().sum())\n",
    "print(\"Unique Destinations:\", combined['Destination'].dropna().unique())\n"
   ]
  },
  {
   "cell_type": "markdown",
   "id": "a71a4581",
   "metadata": {},
   "source": [
    "Group-Based Inference (GroupID, Surname)"
   ]
  },
  {
   "cell_type": "code",
   "execution_count": 32,
   "id": "a76cce0e",
   "metadata": {},
   "outputs": [
    {
     "name": "stderr",
     "output_type": "stream",
     "text": [
      "C:\\Users\\andre\\AppData\\Local\\Temp\\ipykernel_10236\\4092387815.py:15: FutureWarning: A value is trying to be set on a copy of a DataFrame or Series through chained assignment using an inplace method.\n",
      "The behavior will change in pandas 3.0. This inplace method will never work because the intermediate object on which we are setting values always behaves as a copy.\n",
      "\n",
      "For example, when doing 'df[col].method(value, inplace=True)', try using 'df.method({col: value}, inplace=True)' or df[col] = df[col].method(value) instead, to perform the operation inplace on the original object.\n",
      "\n",
      "\n",
      "  combined['Destination_inferred'].fillna(global_mode, inplace=True)\n"
     ]
    }
   ],
   "source": [
    "# Step 1: GroupID-based unique destination\n",
    "group_destination_map = combined.groupby('GroupID')['Destination'].agg(lambda x: x.dropna().unique())\n",
    "def infer_destination_from_group(row):\n",
    "    if pd.isna(row['Destination']):\n",
    "        dests = group_destination_map.get(row['GroupID'], [])\n",
    "        if len(dests) == 1:\n",
    "            return dests[0]\n",
    "    return row['Destination']\n",
    "combined['Destination_inferred'] = combined.apply(infer_destination_from_group, axis=1)\n",
    "\n",
    "# Step 2: Fill the rest using mode\n",
    "global_mode = combined['Destination'].mode()[0]\n",
    "combined['Destination_confidence'] = 'known'\n",
    "combined.loc[combined['Destination'].isna() & combined['Destination_inferred'].notna(), 'Destination_confidence'] = 'inferred'\n",
    "combined['Destination_inferred'].fillna(global_mode, inplace=True)\n",
    "combined.loc[combined['Destination'].isna() & (combined['Destination_inferred'] == global_mode), 'Destination_confidence'] = 'assumed_mode'\n",
    "\n",
    "# Step 3: Final assignment\n",
    "combined['Destination_cleaned'] = combined['Destination_inferred']\n",
    "combined.drop(columns=['Destination_inferred'], inplace=True)\n",
    "\n",
    "combined.drop(columns=['Destination'], inplace=True)"
   ]
  },
  {
   "cell_type": "markdown",
   "id": "1c915cc0",
   "metadata": {},
   "source": [
    "Fill Remaining from Surname if Possible"
   ]
  },
  {
   "cell_type": "code",
   "execution_count": 33,
   "id": "14e156c2",
   "metadata": {},
   "outputs": [
    {
     "name": "stdout",
     "output_type": "stream",
     "text": [
      "Remaining Destination NaNs: 0\n",
      "Destination_confidence\n",
      "known           12696\n",
      "assumed_mode      255\n",
      "inferred           19\n",
      "Name: count, dtype: int64\n"
     ]
    }
   ],
   "source": [
    "print(\"Remaining Destination NaNs:\", combined['Destination_cleaned'].isna().sum())\n",
    "print(combined['Destination_confidence'].value_counts())\n"
   ]
  },
  {
   "cell_type": "code",
   "execution_count": 34,
   "id": "4c03826b",
   "metadata": {},
   "outputs": [
    {
     "name": "stdout",
     "output_type": "stream",
     "text": [
      "\n",
      "Missing Values:\n",
      "Transported               4277\n",
      "Name                       294\n",
      "Surname                    294\n",
      "Age                        270\n",
      "Cabin                        0\n",
      "RoomService                  0\n",
      "CryoSleep                    0\n",
      "PassengerId                  0\n",
      "ShoppingMall                 0\n",
      "FoodCourt                    0\n",
      "VRDeck                       0\n",
      "Spa                          0\n",
      "is_train                     0\n",
      "GroupID                      0\n",
      "CabinDeck                    0\n",
      "HomePlanet                   0\n",
      "CabinNum                     0\n",
      "CabinSide                    0\n",
      "NoAmenities                  0\n",
      "Cabin_missing                0\n",
      "LikelyBudgetPassenger        0\n",
      "CryoSleep_missing            0\n",
      "RoomService_missing          0\n",
      "FoodCourt_missing            0\n",
      "ShoppingMall_missing         0\n",
      "Spa_missing                  0\n",
      "VRDeck_missing               0\n",
      "TotalSpend                   0\n",
      "VIP_confidence               0\n",
      "VIP_cleaned                  0\n",
      "Destination_confidence       0\n",
      "Destination_cleaned          0\n",
      "dtype: int64\n"
     ]
    }
   ],
   "source": [
    "print(\"\\nMissing Values:\")\n",
    "print(combined.isnull().sum().sort_values(ascending=False))"
   ]
  },
  {
   "cell_type": "markdown",
   "id": "149e3592",
   "metadata": {},
   "source": [
    "Next: AGE\n",
    "\n",
    " Create Age Categories"
   ]
  },
  {
   "cell_type": "code",
   "execution_count": 35,
   "id": "3cd0daf9",
   "metadata": {},
   "outputs": [
    {
     "name": "stdout",
     "output_type": "stream",
     "text": [
      "Age Categories:\n",
      " AgeCategory\n",
      "adult     10058\n",
      "child      2264\n",
      "senior      378\n",
      "NaN         270\n",
      "Name: count, dtype: int64\n",
      "\n",
      "Missing Age Values: 270\n"
     ]
    }
   ],
   "source": [
    "# Step 1: Categorize known ages\n",
    "def categorize_age(age):\n",
    "    if pd.isna(age):\n",
    "        return np.nan\n",
    "    elif age < 18:\n",
    "        return 'child'\n",
    "    elif age < 60:\n",
    "        return 'adult'\n",
    "    else:\n",
    "        return 'senior'\n",
    "\n",
    "combined['AgeCategory'] = combined['Age'].apply(categorize_age)\n",
    "\n",
    "# Step 2: Show the breakdown\n",
    "age_category_counts = combined['AgeCategory'].value_counts(dropna=False)\n",
    "print(\"Age Categories:\\n\", age_category_counts)\n",
    "\n",
    "# Step 3: Optional — Show how many missing age values are in each category (should be NaN only)\n",
    "missing_age_count = combined['Age'].isna().sum()\n",
    "print(f\"\\nMissing Age Values: {missing_age_count}\")\n"
   ]
  },
  {
   "cell_type": "markdown",
   "id": "10712c70",
   "metadata": {},
   "source": [
    "Impute the 270 missing ages smartly\n",
    "\n",
    "- We'll do this in tiers of increasing specificity:\n",
    "\n",
    "Tier 1: GroupID-based inference\n",
    "\n",
    "If a missing-age passenger is in a GroupID where others have known ages:\n",
    "\n",
    "- Use the most common AgeCategory in their group\n",
    "\n",
    "- Assign the mean age of that category to the missing value"
   ]
  },
  {
   "cell_type": "code",
   "execution_count": 36,
   "id": "56d678ab",
   "metadata": {},
   "outputs": [
    {
     "name": "stdout",
     "output_type": "stream",
     "text": [
      "New missing values in Age_filled: 144\n"
     ]
    },
    {
     "data": {
      "text/plain": [
       "Age_confidence\n",
       "known                    12700\n",
       "unknown                    144\n",
       "inferred_group_adult        96\n",
       "inferred_group_child        29\n",
       "inferred_group_senior        1\n",
       "Name: count, dtype: int64"
      ]
     },
     "execution_count": 36,
     "metadata": {},
     "output_type": "execute_result"
    }
   ],
   "source": [
    "# Step 1: Mean ages by category\n",
    "mean_ages_by_category = combined.groupby('AgeCategory')['Age'].mean()\n",
    "\n",
    "# Step 2: Build a GroupID → most common age category map\n",
    "group_age_mode = (\n",
    "    combined[combined['AgeCategory'].notna()]\n",
    "    .groupby('GroupID')['AgeCategory']\n",
    "    .agg(lambda x: x.mode()[0] if not x.mode().empty else np.nan)\n",
    ")\n",
    "\n",
    "# Step 3: Function to infer missing ages\n",
    "def infer_age(row):\n",
    "    if pd.notna(row['Age']):\n",
    "        return row['Age'], 'known'\n",
    "    \n",
    "    # Try GroupID\n",
    "    group_cat = group_age_mode.get(row['GroupID'], np.nan)\n",
    "    if pd.notna(group_cat):\n",
    "        return mean_ages_by_category[group_cat], f'inferred_group_{group_cat}'\n",
    "    \n",
    "    return np.nan, 'unknown'\n",
    "\n",
    "# Step 4: Apply logic\n",
    "combined[['Age_filled', 'Age_confidence']] = combined.apply(\n",
    "    infer_age, axis=1, result_type='expand'\n",
    ")\n",
    "\n",
    "print(\"New missing values in Age_filled:\", combined['Age_filled'].isna().sum())\n",
    "combined['Age_confidence'].value_counts(dropna=False)\n"
   ]
  },
  {
   "cell_type": "markdown",
   "id": "c44bc129",
   "metadata": {},
   "source": [
    "Tier 2 Inference Ideas\n",
    "\n",
    "Step 1: Solo Travelers Are Adults\n",
    "\n",
    "- Anyone in a GroupID with only 1 person is likely an adult."
   ]
  },
  {
   "cell_type": "code",
   "execution_count": 37,
   "id": "49d4198c",
   "metadata": {},
   "outputs": [],
   "source": [
    "# Group sizes\n",
    "group_sizes = combined.groupby('GroupID')['PassengerId'].count()\n",
    "\n",
    "# Map GroupID to size\n",
    "combined['GroupSize'] = combined['GroupID'].map(group_sizes)\n",
    "\n",
    "# Flag solo travelers\n",
    "is_solo = (combined['GroupSize'] == 1)\n",
    "\n",
    "# Assign average adult age for solo travelers with unknown age\n",
    "solo_adult_fill = (combined['Age'].isna()) & (is_solo)\n",
    "\n",
    "combined.loc[solo_adult_fill, 'Age'] = mean_ages_by_category['adult']\n",
    "combined.loc[solo_adult_fill, 'Age_confidence'] = 'inferred_solo_adult'\n"
   ]
  },
  {
   "cell_type": "code",
   "execution_count": 38,
   "id": "e4bef680",
   "metadata": {},
   "outputs": [
    {
     "name": "stdout",
     "output_type": "stream",
     "text": [
      "New missing values in Age_filled: 144\n"
     ]
    },
    {
     "data": {
      "text/plain": [
       "Age_confidence\n",
       "known                    12700\n",
       "inferred_solo_adult        142\n",
       "inferred_group_adult        96\n",
       "inferred_group_child        29\n",
       "unknown                      2\n",
       "inferred_group_senior        1\n",
       "Name: count, dtype: int64"
      ]
     },
     "execution_count": 38,
     "metadata": {},
     "output_type": "execute_result"
    }
   ],
   "source": [
    "print(\"New missing values in Age_filled:\", combined['Age_filled'].isna().sum())\n",
    "combined['Age_confidence'].value_counts(dropna=False)"
   ]
  },
  {
   "cell_type": "markdown",
   "id": "22edd4d3",
   "metadata": {},
   "source": [
    "Nice, we're now accounted for 268 out of 270 missing ages with informed, category-aligned estimates.\n",
    "\n",
    "I've only got 2 unknowns left. At this point, I think it's acceptable to:\n",
    "\n",
    "- Fill them both with the overall mean of all known ages\n",
    "\n",
    "- Or more cleanly, just set them as the mean adult age, since they weren't group- or solo-inferable and are **probably** not children"
   ]
  },
  {
   "cell_type": "code",
   "execution_count": 39,
   "id": "6741bb47",
   "metadata": {},
   "outputs": [],
   "source": [
    "# Fill final 2 with adult mean\n",
    "final_unknown = combined['Age_confidence'] == 'unknown'\n",
    "combined.loc[final_unknown, 'Age'] = mean_ages_by_category['adult']\n",
    "combined.loc[final_unknown, 'Age_confidence'] = 'assumed_adult'\n"
   ]
  },
  {
   "cell_type": "code",
   "execution_count": 40,
   "id": "00ac5b4e",
   "metadata": {},
   "outputs": [
    {
     "name": "stdout",
     "output_type": "stream",
     "text": [
      "New missing values in Age_filled: 144\n"
     ]
    },
    {
     "data": {
      "text/plain": [
       "Age_confidence\n",
       "known                    12700\n",
       "inferred_solo_adult        142\n",
       "inferred_group_adult        96\n",
       "inferred_group_child        29\n",
       "assumed_adult                2\n",
       "inferred_group_senior        1\n",
       "Name: count, dtype: int64"
      ]
     },
     "execution_count": 40,
     "metadata": {},
     "output_type": "execute_result"
    }
   ],
   "source": [
    "print(\"New missing values in Age_filled:\", combined['Age_filled'].isna().sum())\n",
    "combined['Age_confidence'].value_counts(dropna=False)"
   ]
  },
  {
   "cell_type": "code",
   "execution_count": 41,
   "id": "a716176e",
   "metadata": {},
   "outputs": [
    {
     "name": "stdout",
     "output_type": "stream",
     "text": [
      "\n",
      "Missing Values:\n",
      "Transported               4277\n",
      "Name                       294\n",
      "Surname                    294\n",
      "AgeCategory                270\n",
      "Age_filled                 144\n",
      "Age                        126\n",
      "HomePlanet                   0\n",
      "PassengerId                  0\n",
      "Cabin                        0\n",
      "CryoSleep                    0\n",
      "ShoppingMall                 0\n",
      "RoomService                  0\n",
      "is_train                     0\n",
      "GroupID                      0\n",
      "CabinDeck                    0\n",
      "CabinNum                     0\n",
      "CabinSide                    0\n",
      "FoodCourt                    0\n",
      "VRDeck                       0\n",
      "Spa                          0\n",
      "LikelyBudgetPassenger        0\n",
      "NoAmenities                  0\n",
      "Cabin_missing                0\n",
      "CryoSleep_missing            0\n",
      "ShoppingMall_missing         0\n",
      "Spa_missing                  0\n",
      "RoomService_missing          0\n",
      "FoodCourt_missing            0\n",
      "TotalSpend                   0\n",
      "VRDeck_missing               0\n",
      "VIP_confidence               0\n",
      "VIP_cleaned                  0\n",
      "Destination_cleaned          0\n",
      "Destination_confidence       0\n",
      "Age_confidence               0\n",
      "GroupSize                    0\n",
      "dtype: int64\n"
     ]
    }
   ],
   "source": [
    "print(\"\\nMissing Values:\")\n",
    "print(combined.isnull().sum().sort_values(ascending=False))"
   ]
  },
  {
   "cell_type": "markdown",
   "id": "9f02db77",
   "metadata": {},
   "source": [
    "These are now stale or redundant:\n",
    "\n",
    "- Age_filled: everything's in Age\n",
    "\n",
    "- AgeCategory: served its purpose for group inference"
   ]
  },
  {
   "cell_type": "code",
   "execution_count": 42,
   "id": "cb7b3cf1",
   "metadata": {},
   "outputs": [],
   "source": [
    "combined.drop(columns=['Age_filled', 'AgeCategory'], inplace=True)"
   ]
  }
 ],
 "metadata": {
  "kernelspec": {
   "display_name": ".venv",
   "language": "python",
   "name": "python3"
  },
  "language_info": {
   "codemirror_mode": {
    "name": "ipython",
    "version": 3
   },
   "file_extension": ".py",
   "mimetype": "text/x-python",
   "name": "python",
   "nbconvert_exporter": "python",
   "pygments_lexer": "ipython3",
   "version": "3.11.0"
  }
 },
 "nbformat": 4,
 "nbformat_minor": 5
}
