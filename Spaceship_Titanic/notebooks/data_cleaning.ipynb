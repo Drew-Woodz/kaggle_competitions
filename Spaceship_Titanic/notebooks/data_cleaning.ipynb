{
 "cells": [
  {
   "cell_type": "markdown",
   "id": "bf55382b",
   "metadata": {},
   "source": [
    "### Data Cleaning"
   ]
  },
  {
   "cell_type": "code",
   "execution_count": 1,
   "id": "c62dcf70",
   "metadata": {},
   "outputs": [],
   "source": [
    "import pandas as pd\n",
    "\n",
    "# Load data\n",
    "train = pd.read_csv('../data/train.csv')\n",
    "test = pd.read_csv('../data/test.csv')\n",
    "\n"
   ]
  },
  {
   "cell_type": "markdown",
   "id": "cb4dbcbe",
   "metadata": {},
   "source": [
    "**Initial Data Overview**"
   ]
  },
  {
   "cell_type": "code",
   "execution_count": 2,
   "id": "f156cc21",
   "metadata": {},
   "outputs": [
    {
     "name": "stdout",
     "output_type": "stream",
     "text": [
      "Shape: (12970, 15)\n",
      "\n",
      "Missing Values:\n",
      "Transported     4277\n",
      "CryoSleep        310\n",
      "ShoppingMall     306\n",
      "Cabin            299\n",
      "VIP              296\n",
      "Name             294\n",
      "FoodCourt        289\n",
      "HomePlanet       288\n",
      "Spa              284\n",
      "Destination      274\n",
      "Age              270\n",
      "VRDeck           268\n",
      "RoomService      263\n",
      "PassengerId        0\n",
      "is_train           0\n",
      "dtype: int64\n",
      "\n",
      "Column Types:\n",
      "PassengerId      object\n",
      "HomePlanet       object\n",
      "CryoSleep        object\n",
      "Cabin            object\n",
      "Destination      object\n",
      "Age             float64\n",
      "VIP              object\n",
      "RoomService     float64\n",
      "FoodCourt       float64\n",
      "ShoppingMall    float64\n",
      "Spa             float64\n",
      "VRDeck          float64\n",
      "Name             object\n",
      "Transported      object\n",
      "is_train           bool\n",
      "dtype: object\n"
     ]
    }
   ],
   "source": [
    "# Concatenate train and test for unified cleaning\n",
    "train['is_train'] = True\n",
    "test['is_train'] = False\n",
    "combined = pd.concat([train, test], sort=False).reset_index(drop=True)\n",
    "\n",
    "# Quick structure and missing value overview\n",
    "print(\"Shape:\", combined.shape)\n",
    "print(\"\\nMissing Values:\")\n",
    "print(combined.isnull().sum().sort_values(ascending=False))\n",
    "\n",
    "print(\"\\nColumn Types:\")\n",
    "print(combined.dtypes)\n"
   ]
  },
  {
   "cell_type": "code",
   "execution_count": 3,
   "id": "2d0d2a43",
   "metadata": {},
   "outputs": [
    {
     "data": {
      "text/html": [
       "<div>\n",
       "<style scoped>\n",
       "    .dataframe tbody tr th:only-of-type {\n",
       "        vertical-align: middle;\n",
       "    }\n",
       "\n",
       "    .dataframe tbody tr th {\n",
       "        vertical-align: top;\n",
       "    }\n",
       "\n",
       "    .dataframe thead th {\n",
       "        text-align: right;\n",
       "    }\n",
       "</style>\n",
       "<table border=\"1\" class=\"dataframe\">\n",
       "  <thead>\n",
       "    <tr style=\"text-align: right;\">\n",
       "      <th></th>\n",
       "      <th>PassengerId</th>\n",
       "      <th>GroupID</th>\n",
       "      <th>Cabin</th>\n",
       "      <th>HomePlanet</th>\n",
       "      <th>ImputedGroupPlanet</th>\n",
       "    </tr>\n",
       "  </thead>\n",
       "  <tbody>\n",
       "    <tr>\n",
       "      <th>59</th>\n",
       "      <td>0064_02</td>\n",
       "      <td>0064</td>\n",
       "      <td>E/3/S</td>\n",
       "      <td>NaN</td>\n",
       "      <td>Mars</td>\n",
       "    </tr>\n",
       "    <tr>\n",
       "      <th>113</th>\n",
       "      <td>0119_01</td>\n",
       "      <td>0119</td>\n",
       "      <td>A/0/P</td>\n",
       "      <td>NaN</td>\n",
       "      <td>Europa</td>\n",
       "    </tr>\n",
       "    <tr>\n",
       "      <th>186</th>\n",
       "      <td>0210_01</td>\n",
       "      <td>0210</td>\n",
       "      <td>D/6/P</td>\n",
       "      <td>NaN</td>\n",
       "      <td>None</td>\n",
       "    </tr>\n",
       "    <tr>\n",
       "      <th>225</th>\n",
       "      <td>0242_01</td>\n",
       "      <td>0242</td>\n",
       "      <td>F/46/S</td>\n",
       "      <td>NaN</td>\n",
       "      <td>None</td>\n",
       "    </tr>\n",
       "    <tr>\n",
       "      <th>234</th>\n",
       "      <td>0251_01</td>\n",
       "      <td>0251</td>\n",
       "      <td>C/11/S</td>\n",
       "      <td>NaN</td>\n",
       "      <td>None</td>\n",
       "    </tr>\n",
       "    <tr>\n",
       "      <th>274</th>\n",
       "      <td>0303_01</td>\n",
       "      <td>0303</td>\n",
       "      <td>G/41/S</td>\n",
       "      <td>NaN</td>\n",
       "      <td>None</td>\n",
       "    </tr>\n",
       "    <tr>\n",
       "      <th>286</th>\n",
       "      <td>0315_01</td>\n",
       "      <td>0315</td>\n",
       "      <td>G/42/S</td>\n",
       "      <td>NaN</td>\n",
       "      <td>None</td>\n",
       "    </tr>\n",
       "    <tr>\n",
       "      <th>291</th>\n",
       "      <td>0321_01</td>\n",
       "      <td>0321</td>\n",
       "      <td>F/61/S</td>\n",
       "      <td>NaN</td>\n",
       "      <td>None</td>\n",
       "    </tr>\n",
       "    <tr>\n",
       "      <th>347</th>\n",
       "      <td>0382_01</td>\n",
       "      <td>0382</td>\n",
       "      <td>G/64/P</td>\n",
       "      <td>NaN</td>\n",
       "      <td>None</td>\n",
       "    </tr>\n",
       "    <tr>\n",
       "      <th>365</th>\n",
       "      <td>0402_01</td>\n",
       "      <td>0402</td>\n",
       "      <td>D/15/S</td>\n",
       "      <td>NaN</td>\n",
       "      <td>None</td>\n",
       "    </tr>\n",
       "  </tbody>\n",
       "</table>\n",
       "</div>"
      ],
      "text/plain": [
       "    PassengerId GroupID   Cabin HomePlanet ImputedGroupPlanet\n",
       "59      0064_02    0064   E/3/S        NaN               Mars\n",
       "113     0119_01    0119   A/0/P        NaN             Europa\n",
       "186     0210_01    0210   D/6/P        NaN               None\n",
       "225     0242_01    0242  F/46/S        NaN               None\n",
       "234     0251_01    0251  C/11/S        NaN               None\n",
       "274     0303_01    0303  G/41/S        NaN               None\n",
       "286     0315_01    0315  G/42/S        NaN               None\n",
       "291     0321_01    0321  F/61/S        NaN               None\n",
       "347     0382_01    0382  G/64/P        NaN               None\n",
       "365     0402_01    0402  D/15/S        NaN               None"
      ]
     },
     "execution_count": 3,
     "metadata": {},
     "output_type": "execute_result"
    }
   ],
   "source": [
    "# Add GroupID from PassengerId\n",
    "combined['GroupID'] = combined['PassengerId'].str.split('_').str[0]\n",
    "\n",
    "# Subset again now that GroupID exists\n",
    "missing_hp = combined[combined['HomePlanet'].isna()].copy()\n",
    "\n",
    "# Try to infer the group's HomePlanet using mode\n",
    "group_planet = (\n",
    "    combined.groupby('GroupID')['HomePlanet']\n",
    "    .agg(lambda x: x.mode().iloc[0] if x.notna().sum() else None)\n",
    ")\n",
    "\n",
    "# Map that to missing_hp rows\n",
    "missing_hp['ImputedGroupPlanet'] = missing_hp['GroupID'].map(group_planet)\n",
    "\n",
    "# Show a sample\n",
    "missing_hp[['PassengerId', 'GroupID', 'Cabin', 'HomePlanet', 'ImputedGroupPlanet']].head(10)\n"
   ]
  },
  {
   "cell_type": "markdown",
   "id": "96fecea2",
   "metadata": {},
   "source": [
    "Some missing values in HomePlanet can be confidently imputed from others in the same GroupID (like 0064 -> Mars, 0119 -> Europa).\n",
    "\n",
    "Others show up as None because that group has no known HomePlanet values to infer from."
   ]
  },
  {
   "cell_type": "code",
   "execution_count": 4,
   "id": "326094e2",
   "metadata": {},
   "outputs": [
    {
     "name": "stdout",
     "output_type": "stream",
     "text": [
      "Remaining missing HomePlanet values: 157\n",
      "HomePlanet value counts after imputation:\n",
      "HomePlanet\n",
      "Earth      6914\n",
      "Europa     3175\n",
      "Mars       2724\n",
      "Unknown     157\n",
      "Name: count, dtype: int64\n",
      "\n",
      "Missing Values:\n",
      "Transported     4277\n",
      "CryoSleep        310\n",
      "ShoppingMall     306\n",
      "Cabin            299\n",
      "VIP              296\n",
      "Name             294\n",
      "FoodCourt        289\n",
      "Spa              284\n",
      "Destination      274\n",
      "Age              270\n",
      "VRDeck           268\n",
      "RoomService      263\n",
      "HomePlanet         0\n",
      "PassengerId        0\n",
      "is_train           0\n",
      "GroupID            0\n",
      "dtype: int64\n"
     ]
    }
   ],
   "source": [
    "# Only fill HomePlanet where group-based inference succeeded\n",
    "combined.loc[combined['HomePlanet'].isna(), 'HomePlanet'] = (\n",
    "    combined.loc[combined['HomePlanet'].isna(), 'GroupID'].map(group_planet)\n",
    ")\n",
    "\n",
    "# Confirm how many are still missing\n",
    "remaining_missing = combined['HomePlanet'].isna().sum()\n",
    "print(f\"Remaining missing HomePlanet values: {remaining_missing}\")\n",
    "\n",
    "# Fill remaining missing HomePlanet values with 'Unknown'\n",
    "combined['HomePlanet'] = combined['HomePlanet'].fillna('Unknown')\n",
    "\n",
    "# Sanity check\n",
    "print(\"HomePlanet value counts after imputation:\")\n",
    "print(combined['HomePlanet'].value_counts(dropna=False))\n",
    "\n",
    "print(\"\\nMissing Values:\")\n",
    "print(combined.isnull().sum().sort_values(ascending=False))\n",
    "\n"
   ]
  },
  {
   "cell_type": "markdown",
   "id": "a1aab594",
   "metadata": {},
   "source": [
    "I think these next, in about this order:\n",
    "\n",
    "- Cabin: packed with info (deck/num/side), useful for feature engineering.\n",
    "\n",
    "- CryoSleep + VIP: Binary, easy to fill if correlated with spending.\n",
    "\n",
    "- Spending Columns: imputing 0s for missing values if CryoSleep = True or group-based.\n",
    "\n",
    "- Destination: Important categorical; might be inferrable from Cabin group or spending behavior.\n",
    "\n",
    "- Age: May have skewed distribution; good for binning or group median imputation.\n",
    "\n",
    "- Name: Low model impact, maybe drop or use surname if I want group detection.\n",
    "\n",
    "- Transported: Target, don’t touch in test set."
   ]
  },
  {
   "cell_type": "markdown",
   "id": "2b4067d6",
   "metadata": {},
   "source": [
    "Strategy for Cabin Imputation\n",
    "\n",
    "Step 1: Extract the parts\n",
    "\n",
    "- Even before imputing, we split it:"
   ]
  },
  {
   "cell_type": "code",
   "execution_count": 5,
   "id": "aea7f4bb",
   "metadata": {},
   "outputs": [],
   "source": [
    "cabin_split = combined['Cabin'].str.split('/', expand=True)\n",
    "combined['CabinDeck'] = cabin_split[0]\n",
    "combined['CabinNum'] = pd.to_numeric(cabin_split[1], errors='coerce')\n",
    "combined['CabinSide'] = cabin_split[2]"
   ]
  },
  {
   "cell_type": "markdown",
   "id": "2e283e2b",
   "metadata": {},
   "source": [
    "Step 2: Add missing value flags\n"
   ]
  },
  {
   "cell_type": "code",
   "execution_count": 6,
   "id": "c9e582fa",
   "metadata": {},
   "outputs": [],
   "source": [
    "combined['Cabin_missing'] = combined['Cabin'].isna().astype(int)"
   ]
  },
  {
   "cell_type": "markdown",
   "id": "1ecc601f",
   "metadata": {},
   "source": [
    "Step 3: Group-based Imputation\n",
    "Using `GroupID` to fill missing `CabinDeck`, `CabinSide`, and even `CabinNum` if it looks clean:"
   ]
  },
  {
   "cell_type": "code",
   "execution_count": 7,
   "id": "956b9730",
   "metadata": {},
   "outputs": [],
   "source": [
    "# Fill deck/side/num from other members in the same group\n",
    "deck_map = combined.groupby('GroupID')['CabinDeck'].agg(lambda x: x.mode().iloc[0] if x.notna().sum() else None)\n",
    "side_map = combined.groupby('GroupID')['CabinSide'].agg(lambda x: x.mode().iloc[0] if x.notna().sum() else None)\n",
    "num_map  = combined.groupby('GroupID')['CabinNum'].median()\n",
    "\n",
    "# Apply group-based fill\n",
    "mask = combined['CabinDeck'].isna()\n",
    "combined.loc[mask, 'CabinDeck'] = combined.loc[mask, 'GroupID'].map(deck_map)\n",
    "\n",
    "mask = combined['CabinSide'].isna()\n",
    "combined.loc[mask, 'CabinSide'] = combined.loc[mask, 'GroupID'].map(side_map)\n",
    "\n",
    "mask = combined['CabinNum'].isna()\n",
    "combined.loc[mask, 'CabinNum'] = combined.loc[mask, 'GroupID'].map(num_map)\n"
   ]
  },
  {
   "cell_type": "markdown",
   "id": "2444d57f",
   "metadata": {},
   "source": [
    "Step 4: Fill remaining with 'Unknown' or new category"
   ]
  },
  {
   "cell_type": "code",
   "execution_count": 8,
   "id": "0c537aca",
   "metadata": {},
   "outputs": [],
   "source": [
    "combined['CabinDeck'] = combined['CabinDeck'].fillna('Unknown')\n",
    "combined['CabinSide'] = combined['CabinSide'].fillna('Unknown')\n",
    "combined['CabinNum'] = combined['CabinNum'].fillna(-1)  # or median, or leave as-is\n"
   ]
  },
  {
   "cell_type": "markdown",
   "id": "8223bd0a",
   "metadata": {},
   "source": [
    "Explore Cabinless Subgroup"
   ]
  },
  {
   "cell_type": "code",
   "execution_count": 9,
   "id": "88218260",
   "metadata": {},
   "outputs": [
    {
     "name": "stdout",
     "output_type": "stream",
     "text": [
      "CryoSleep\n",
      "False    170\n",
      "True     119\n",
      "Name: count, dtype: int64\n",
      "count      295.000000\n",
      "mean       299.684746\n",
      "std       1153.231254\n",
      "min          0.000000\n",
      "25%          0.000000\n",
      "50%          0.000000\n",
      "75%         33.000000\n",
      "max      14327.000000\n",
      "Name: RoomService, dtype: float64\n",
      "Destination\n",
      "TRAPPIST-1e      204\n",
      "55 Cancri e       64\n",
      "PSO J318.5-22     27\n",
      "Name: count, dtype: int64\n",
      "\n",
      "Missing Values:\n",
      "Transported      4277\n",
      "CryoSleep         310\n",
      "ShoppingMall      306\n",
      "Cabin             299\n",
      "VIP               296\n",
      "Name              294\n",
      "FoodCourt         289\n",
      "Spa               284\n",
      "Destination       274\n",
      "Age               270\n",
      "VRDeck            268\n",
      "RoomService       263\n",
      "PassengerId         0\n",
      "HomePlanet          0\n",
      "is_train            0\n",
      "GroupID             0\n",
      "CabinDeck           0\n",
      "CabinNum            0\n",
      "CabinSide           0\n",
      "Cabin_missing       0\n",
      "dtype: int64\n"
     ]
    }
   ],
   "source": [
    "no_cabin = combined[combined['Cabin_missing'] == 1]\n",
    "print(no_cabin['CryoSleep'].value_counts())\n",
    "print(no_cabin['RoomService'].describe())\n",
    "print(no_cabin['Destination'].value_counts())\n",
    "\n",
    "print(\"\\nMissing Values:\")\n",
    "print(combined.isnull().sum().sort_values(ascending=False))\n"
   ]
  },
  {
   "cell_type": "markdown",
   "id": "5cd70e3f",
   "metadata": {},
   "source": [
    "    CryoSleep\n",
    "    False    170\n",
    "    True     119\n",
    "\n",
    "~41% of these passengers were in CryoSleep, which is higher than the global average (~35%). Not huge, but maybe suggestive...\n",
    "\n",
    "    RoomService Spending\n",
    "    count      295.00\n",
    "    mean       299.68\n",
    "    std       1153.23\n",
    "    min          0.00\n",
    "    25%          0.00\n",
    "    50%          0.00\n",
    "    75%         33.00\n",
    "    max      14327.00\n",
    "\n",
    "50% of them spent zero on RoomService - that's a big deal.\n",
    "\n",
    "Upper bound is high, 14k+, but the mean is misleading due to outliers.\n",
    "\n",
    "Most didn’t use RoomService — strong indicator they didn’t have cabin privileges.\n",
    "\n",
    "    Destinations\n",
    "    TRAPPIST-1e      204\n",
    "    55 Cancri e       64\n",
    "    PSO J318.5-22     27\n",
    "\n",
    "This roughly mirrors the full distribution where TRAPPIST-1e dominates, so destination isn’t a strong clue here.\n",
    "\n",
    "The “Cabinless Class” Hypothesis\n",
    "\n",
    "- Missing Cabin info clusters with low RoomService, more CryoSleep, and no spending on amenities.\n",
    "\n",
    "- Suggests a class of passengers without cabins — possibly low-budget, cargo-hold sleepers, or shared sleep pods."
   ]
  },
  {
   "cell_type": "code",
   "execution_count": 10,
   "id": "5d40b0f4",
   "metadata": {},
   "outputs": [
    {
     "data": {
      "text/plain": [
       "Cabin_missing  NoAmenities\n",
       "0              0              7350\n",
       "               1              5321\n",
       "1              0               163\n",
       "               1               136\n",
       "Name: count, dtype: int64"
      ]
     },
     "execution_count": 10,
     "metadata": {},
     "output_type": "execute_result"
    }
   ],
   "source": [
    "combined['NoAmenities'] = (\n",
    "    (combined['RoomService'].fillna(0) == 0) &\n",
    "    (combined['FoodCourt'].fillna(0) == 0) &\n",
    "    (combined['ShoppingMall'].fillna(0) == 0) &\n",
    "    (combined['Spa'].fillna(0) == 0) &\n",
    "    (combined['VRDeck'].fillna(0) == 0)\n",
    ").astype(int)\n",
    "\n",
    "combined[['Cabin_missing', 'NoAmenities']].value_counts()\n"
   ]
  },
  {
   "cell_type": "markdown",
   "id": "34115d8c",
   "metadata": {},
   "source": [
    "```text\n",
    "Cabin_mis  NoAmen  count\n",
    "0          0       7350  : These people Had a cabin and used at least 1 amenity\n",
    "0          1       5321  : Had a cabin, used No amenities\n",
    "1          0       163  : No cabin, still used Some amenities (odd)\n",
    "1          1       136  : No cabin and No amenities (true “cabinless class”?)\n",
    "```\n",
    "\n",
    "Insights:\n",
    "- 5321 passengers had a cabin but spent nothing on amenities : cannot assume “no spending” means “no cabin”.\n",
    "\n",
    "- Only 136 passengers are fully “Cabinless + No Amenities” : this is the strongest evidence of a low-budget, cryo-storage cohort.\n",
    "\n",
    "Next:\n",
    "\n",
    "- Flag those 136 rows as a LikelyBudgetPassenger\n",
    "\n",
    "- Investigate the 163 rows that have no cabin but used amenities - might reveal data noise or shared cabins?\n",
    "\n",
    "Step 1: Flag Obvious Budget Passengers\n"
   ]
  },
  {
   "cell_type": "code",
   "execution_count": 11,
   "id": "ec808813",
   "metadata": {},
   "outputs": [],
   "source": [
    "combined['LikelyBudgetPassenger'] = (\n",
    "    (combined['Cabin_missing'] == 1) &\n",
    "    (combined['NoAmenities'] == 1) &\n",
    "    (combined['CryoSleep'] == True)\n",
    ")\n"
   ]
  },
  {
   "cell_type": "markdown",
   "id": "4624d766",
   "metadata": {},
   "source": [
    "Step 2: Investigate the Oddballs\n",
    "\n",
    "People with:\n",
    "\n",
    "- Cabin missing\n",
    "\n",
    "- Used amenities"
   ]
  },
  {
   "cell_type": "code",
   "execution_count": 12,
   "id": "0e0db1ee",
   "metadata": {},
   "outputs": [
    {
     "name": "stdout",
     "output_type": "stream",
     "text": [
      "    PassengerId  RoomService  FoodCourt  ShoppingMall     Spa  VRDeck GroupID  \\\n",
      "15      0012_01         32.0        0.0         876.0     0.0     0.0    0012   \n",
      "103     0110_01          0.0      410.0           6.0  3929.0   764.0    0110   \n",
      "222     0239_01        637.0        0.0           0.0    92.0   319.0    0239   \n",
      "251     0278_01          0.0        0.0           0.0   888.0     NaN    0278   \n",
      "280     0310_01          NaN      230.0           0.0  4476.0   241.0    0310   \n",
      "295     0327_01         17.0        0.0         784.0     0.0     2.0    0327   \n",
      "314     0348_02        520.0        0.0        1865.0     0.0     0.0    0348   \n",
      "462     0502_01         10.0        0.0         817.0   471.0     0.0    0502   \n",
      "699     0732_01          0.0      714.0           2.0     0.0     0.0    0732   \n",
      "785     0823_02          0.0        0.0         739.0     0.0     0.0    0823   \n",
      "\n",
      "    Cabin  \n",
      "15    NaN  \n",
      "103   NaN  \n",
      "222   NaN  \n",
      "251   NaN  \n",
      "280   NaN  \n",
      "295   NaN  \n",
      "314   NaN  \n",
      "462   NaN  \n",
      "699   NaN  \n",
      "785   NaN  \n"
     ]
    }
   ],
   "source": [
    "odd_cabinless = combined[(combined['Cabin_missing'] == 1) & (combined['NoAmenities'] == 0)]\n",
    "print(odd_cabinless[['PassengerId', 'RoomService', 'FoodCourt', 'ShoppingMall', 'Spa', 'VRDeck', 'GroupID', 'Cabin']].head(10))\n"
   ]
  },
  {
   "cell_type": "markdown",
   "id": "25657a46",
   "metadata": {},
   "source": [
    "These 10 Are Not Budget Passengers\n",
    "They used amenities (some heavily), yet still have Cabin == NaN.\n",
    "\n",
    "So they're:\n",
    "\n",
    "- Not cryo-sleepers\n",
    "\n",
    "- Spent money\n",
    "\n",
    "- Some have full luxury packages\n",
    "\n",
    "- Still no assigned cabin\n",
    "\n",
    "This is weird. It could mean:\n",
    "\n",
    "- They had a cabin, but it wasn't recorded properly\n",
    "\n",
    "- They're edge cases: rich but unassigned? teleported? admin glitch?\n",
    "\n",
    "Step 3 — Group-Based Cabin Imputation\n",
    "\n",
    "Infer Cabin using others in the same group who do have one.\n",
    "\n",
    "- Do Shared Surnames Correlate with Cabin Similarities?"
   ]
  },
  {
   "cell_type": "code",
   "execution_count": 14,
   "id": "33a3e65e",
   "metadata": {},
   "outputs": [
    {
     "name": "stdout",
     "output_type": "stream",
     "text": [
      "Missing Cabins potentially inferrable by surname: 292\n"
     ]
    }
   ],
   "source": [
    "import numpy as np\n",
    "\n",
    "# Extract surname from Name\n",
    "combined['Surname'] = combined['Name'].str.split().str[-1]\n",
    "\n",
    "# For surnames with more than one person and at least one valid Cabin\n",
    "surname_cabin_groups = (\n",
    "    combined[~combined['Cabin'].isna()]\n",
    "    .groupby('Surname')['Cabin']\n",
    "    .agg(lambda x: x.mode()[0] if len(set(x)) == 1 else np.nan)\n",
    ")\n",
    "\n",
    "# Check how many missing Cabin rows could get filled by surname\n",
    "inferred_by_surname = (\n",
    "    combined['Cabin'].isna() &\n",
    "    combined['Surname'].isin(surname_cabin_groups.index)\n",
    ")\n",
    "\n",
    "print(f\"Missing Cabins potentially inferrable by surname: {inferred_by_surname.sum()}\")\n"
   ]
  },
  {
   "cell_type": "markdown",
   "id": "45e03d27",
   "metadata": {},
   "source": [
    "Wow... Yeh they do.\n",
    "\n",
    "Yep - 292 missing cabins potentially inferrable from surname. That’s nearly the full missing set.\n",
    "\n",
    "That tells us:\n",
    "\n",
    "- A large chunk of missing Cabin values likely come from duplicated entries within families.\n",
    "\n",
    "- They aren't noise - they’re structured, and we can recover them cleanly.\n"
   ]
  },
  {
   "cell_type": "code",
   "execution_count": 16,
   "id": "ee69412b",
   "metadata": {},
   "outputs": [
    {
     "name": "stdout",
     "output_type": "stream",
     "text": [
      "Remaining missing Cabins: 270\n"
     ]
    }
   ],
   "source": [
    "# Fill in missing Cabin values using surname inference\n",
    "combined['Cabin'] = combined.apply(\n",
    "    lambda row: surname_cabin_groups[row['Surname']]\n",
    "    if pd.isna(row['Cabin']) and row['Surname'] in surname_cabin_groups and pd.notna(surname_cabin_groups[row['Surname']])\n",
    "    else row['Cabin'],\n",
    "    axis=1\n",
    ")\n",
    "\n",
    "print(f\"Remaining missing Cabins: {combined['Cabin'].isna().sum()}\")\n"
   ]
  },
  {
   "cell_type": "markdown",
   "id": "b235b321",
   "metadata": {},
   "source": [
    "Interpreting the Remaining 270:\n",
    "\n",
    "These passengers don’t share a surname with any known Cabin.\n",
    "\n",
    "They’re either:\n",
    "\n",
    "- Solo travelers,\n",
    "\n",
    "- One-off names,\n",
    "\n",
    "- Or from groups where no member has a known Cabin.\n",
    "\n",
    "We’re basically out of info to confidently infer more. Time to flag the remaining as 'Unknown'\n",
    "\n",
    "Step 4: Flag and Fill in the remaining Missing Cabins with Unknown"
   ]
  },
  {
   "cell_type": "code",
   "execution_count": 17,
   "id": "8bded89c",
   "metadata": {},
   "outputs": [
    {
     "name": "stdout",
     "output_type": "stream",
     "text": [
      "Remaining missing Cabins: 0\n"
     ]
    }
   ],
   "source": [
    "# Create a binary missing flag\n",
    "combined['Cabin_missing'] = combined['Cabin'].isna().astype(int)\n",
    "\n",
    "# Fill remaining NaNs as 'Unknown' (so that downstream models don't choke)\n",
    "combined['Cabin'] = combined['Cabin'].fillna('Unknown')\n",
    "\n",
    "print(f\"Remaining missing Cabins: {combined['Cabin'].isna().sum()}\")"
   ]
  },
  {
   "cell_type": "code",
   "execution_count": 18,
   "id": "b348c0d2",
   "metadata": {},
   "outputs": [
    {
     "name": "stdout",
     "output_type": "stream",
     "text": [
      "\n",
      "Missing Values:\n",
      "Transported              4277\n",
      "CryoSleep                 310\n",
      "ShoppingMall              306\n",
      "VIP                       296\n",
      "Name                      294\n",
      "Surname                   294\n",
      "FoodCourt                 289\n",
      "Spa                       284\n",
      "Destination               274\n",
      "Age                       270\n",
      "VRDeck                    268\n",
      "RoomService               263\n",
      "Cabin                       0\n",
      "PassengerId                 0\n",
      "HomePlanet                  0\n",
      "is_train                    0\n",
      "GroupID                     0\n",
      "CabinNum                    0\n",
      "CabinDeck                   0\n",
      "CabinSide                   0\n",
      "Cabin_missing               0\n",
      "NoAmenities                 0\n",
      "LikelyBudgetPassenger       0\n",
      "dtype: int64\n"
     ]
    }
   ],
   "source": [
    "print(\"\\nMissing Values:\")\n",
    "print(combined.isnull().sum().sort_values(ascending=False))"
   ]
  }
 ],
 "metadata": {
  "kernelspec": {
   "display_name": ".venv",
   "language": "python",
   "name": "python3"
  },
  "language_info": {
   "codemirror_mode": {
    "name": "ipython",
    "version": 3
   },
   "file_extension": ".py",
   "mimetype": "text/x-python",
   "name": "python",
   "nbconvert_exporter": "python",
   "pygments_lexer": "ipython3",
   "version": "3.11.0"
  }
 },
 "nbformat": 4,
 "nbformat_minor": 5
}
