{
 "cells": [
  {
   "cell_type": "markdown",
   "id": "de31600c",
   "metadata": {},
   "source": [
    "### 1. Data Cleaning & Imputation"
   ]
  },
  {
   "cell_type": "markdown",
   "id": "54df0651",
   "metadata": {},
   "source": [
    "**Load Raw Data**\n",
    "\n",
    ">We start by importing the raw training and test datasets. These will serve as the foundation for all future transformations, imputations, and feature engineering work. This step ensures we’re working with the unmodified data straight from the competition source."
   ]
  },
  {
   "cell_type": "code",
   "execution_count": 1,
   "id": "76c09f2e",
   "metadata": {},
   "outputs": [],
   "source": [
    "import pandas as pd\n",
    "# Load data\n",
    "train = pd.read_csv('../data/train.csv')\n",
    "test = pd.read_csv('../data/test.csv')"
   ]
  },
  {
   "cell_type": "markdown",
   "id": "f5c4c434",
   "metadata": {},
   "source": [
    "**Extract GroupID from PassengerId & Track Missing Values**\n",
    "\n",
    ">The PassengerId is formatted as `GroupID_PassengerNumber`. Splitting this gives us a `GroupID`, which may be useful for inferring transport outcomes within families or travel groups. We also add a column to track how many fields are missing per row, which may indicate `CryoSleep` or data quality issues."
   ]
  },
  {
   "cell_type": "code",
   "execution_count": 2,
   "id": "b53025d4",
   "metadata": {},
   "outputs": [],
   "source": [
    "# Extract GroupID\n",
    "train['GroupID'] = train['PassengerId'].str.split('_').str[0]\n",
    "test['GroupID'] = test['PassengerId'].str.split('_').str[0]\n",
    "\n",
    "# Track total missing fields per row\n",
    "train['MissingCount'] = train.isnull().sum(axis=1)\n",
    "test['MissingCount'] = test.isnull().sum(axis=1)\n"
   ]
  },
  {
   "cell_type": "markdown",
   "id": "2eec8c9e",
   "metadata": {},
   "source": [
    "**Impute CryoSleep Based on Spending Behavior**\n",
    "\n",
    ">Passengers in `CryoSleep` almost never have spending in categories like `Spa`, `VRDeck`, `ShoppingMall`, etc. So if all spending is zero or missing, and `CryoSleep` is `null`, we can safely assume they were asleep.\n",
    "\n",
    ">We also create a `NoSpend` flag to capture passengers with no non-zero spending, useful for downstream analysis."
   ]
  },
  {
   "cell_type": "code",
   "execution_count": 3,
   "id": "09ca47ba",
   "metadata": {},
   "outputs": [],
   "source": [
    "# Spending categories\n",
    "spend_cols = ['RoomService', 'FoodCourt', 'ShoppingMall', 'Spa', 'VRDeck']\n",
    "\n",
    "# Create 'NoSpend' flag\n",
    "train['NoSpend'] = train[spend_cols].fillna(0).sum(axis=1) == 0\n",
    "test['NoSpend'] = test[spend_cols].fillna(0).sum(axis=1) == 0\n",
    "\n",
    "# Impute CryoSleep as True when no spend and missing CryoSleep\n",
    "train['CryoSleep'] = train.apply(\n",
    "    lambda row: True if pd.isna(row['CryoSleep']) and row['NoSpend'] else row['CryoSleep'],\n",
    "    axis=1\n",
    ")\n",
    "test['CryoSleep'] = test.apply(\n",
    "    lambda row: True if pd.isna(row['CryoSleep']) and row['NoSpend'] else row['CryoSleep'],\n",
    "    axis=1\n",
    ")\n"
   ]
  },
  {
   "cell_type": "markdown",
   "id": "5ac37961",
   "metadata": {},
   "source": [
    "**Fill Remaining CryoSleep Nulls & Flag Missing**\n",
    "\n",
    ">We’ve already handled `CryoSleep` where `NoSpend == True`. For any remaining nulls, we’ll fill with the most common value (likely `False`) to avoid model errors - but we also track those rows with a `CryoSleep_missing` flag so the model can learn from that uncertainty."
   ]
  },
  {
   "cell_type": "code",
   "execution_count": 4,
   "id": "20297ef5",
   "metadata": {},
   "outputs": [
    {
     "name": "stderr",
     "output_type": "stream",
     "text": [
      "C:\\Users\\andre\\AppData\\Local\\Temp\\ipykernel_17812\\2420040901.py:6: FutureWarning: Downcasting object dtype arrays on .fillna, .ffill, .bfill is deprecated and will change in a future version. Call result.infer_objects(copy=False) instead. To opt-in to the future behavior, set `pd.set_option('future.no_silent_downcasting', True)`\n",
      "  train['CryoSleep'] = train['CryoSleep'].fillna(train['CryoSleep'].mode()[0])\n",
      "C:\\Users\\andre\\AppData\\Local\\Temp\\ipykernel_17812\\2420040901.py:7: FutureWarning: Downcasting object dtype arrays on .fillna, .ffill, .bfill is deprecated and will change in a future version. Call result.infer_objects(copy=False) instead. To opt-in to the future behavior, set `pd.set_option('future.no_silent_downcasting', True)`\n",
      "  test['CryoSleep'] = test['CryoSleep'].fillna(train['CryoSleep'].mode()[0])\n"
     ]
    }
   ],
   "source": [
    "# Flag missing CryoSleep\n",
    "train['CryoSleep_missing'] = train['CryoSleep'].isna()\n",
    "test['CryoSleep_missing'] = test['CryoSleep'].isna()\n",
    "\n",
    "# Fill remaining CryoSleep with mode\n",
    "train['CryoSleep'] = train['CryoSleep'].fillna(train['CryoSleep'].mode()[0])\n",
    "test['CryoSleep'] = test['CryoSleep'].fillna(train['CryoSleep'].mode()[0])"
   ]
  },
  {
   "cell_type": "markdown",
   "id": "47d2db83",
   "metadata": {},
   "source": [
    "**Impute Spending Columns Based on CryoSleep**\n",
    "\n",
    ">Passengers in `CryoSleep` didn’t spend - so for any missing spending values and `CryoSleep=True`, we can safely impute zero. For other missing values, we fill with 0 as a default while preserving missingness flags (`*_missing`) for each amenity."
   ]
  },
  {
   "cell_type": "code",
   "execution_count": 5,
   "id": "a307ef08",
   "metadata": {},
   "outputs": [],
   "source": [
    "# Impute spending columns based on CryoSleep\n",
    "for col in spend_cols:\n",
    "    # Missingness flag\n",
    "    train[f'{col}_missing'] = train[col].isna()\n",
    "    test[f'{col}_missing'] = test[col].isna()\n",
    "    \n",
    "    # If CryoSleep == True and value is missing → set to 0\n",
    "    train.loc[(train['CryoSleep'] == True) & (train[col].isna()), col] = 0\n",
    "    test.loc[(test['CryoSleep'] == True) & (test[col].isna()), col] = 0\n",
    "\n",
    "    # Fill remaining missing values with 0 (safe fallback)\n",
    "    train[col] = train[col].fillna(0)\n",
    "    test[col] = test[col].fillna(0)\n"
   ]
  },
  {
   "cell_type": "markdown",
   "id": "f7b092c0",
   "metadata": {},
   "source": [
    "**Impute VIP Based on CryoSleep & Mode**\n",
    "\n",
    ">Passengers in CryoSleep rarely engaged with luxury services, and thus were unlikely to be VIP. We impute missing VIP values accordingly, and fall back to the mode where necessary. A missingness flag helps preserve potential predictive value in VIP uncertainty."
   ]
  },
  {
   "cell_type": "code",
   "execution_count": 6,
   "id": "329cf5b1",
   "metadata": {},
   "outputs": [
    {
     "name": "stderr",
     "output_type": "stream",
     "text": [
      "C:\\Users\\andre\\AppData\\Local\\Temp\\ipykernel_17812\\3685001050.py:10: FutureWarning: Downcasting object dtype arrays on .fillna, .ffill, .bfill is deprecated and will change in a future version. Call result.infer_objects(copy=False) instead. To opt-in to the future behavior, set `pd.set_option('future.no_silent_downcasting', True)`\n",
      "  train['VIP'] = train['VIP'].fillna(train['VIP'].mode()[0])\n",
      "C:\\Users\\andre\\AppData\\Local\\Temp\\ipykernel_17812\\3685001050.py:11: FutureWarning: Downcasting object dtype arrays on .fillna, .ffill, .bfill is deprecated and will change in a future version. Call result.infer_objects(copy=False) instead. To opt-in to the future behavior, set `pd.set_option('future.no_silent_downcasting', True)`\n",
      "  test['VIP'] = test['VIP'].fillna(train['VIP'].mode()[0])\n"
     ]
    }
   ],
   "source": [
    "# VIP missing flag\n",
    "train['VIP_missing'] = train['VIP'].isna()\n",
    "test['VIP_missing'] = test['VIP'].isna()\n",
    "\n",
    "# Impute VIP = False when CryoSleep = True and VIP is missing\n",
    "train.loc[(train['CryoSleep'] == True) & (train['VIP'].isna()), 'VIP'] = False\n",
    "test.loc[(test['CryoSleep'] == True) & (test['VIP'].isna()), 'VIP'] = False\n",
    "\n",
    "# Fill remaining VIP with mode\n",
    "train['VIP'] = train['VIP'].fillna(train['VIP'].mode()[0])\n",
    "test['VIP'] = test['VIP'].fillna(train['VIP'].mode()[0])\n"
   ]
  },
  {
   "cell_type": "markdown",
   "id": "9c3c7758",
   "metadata": {},
   "source": [
    "**Impute Age with Median & Flag Missingness**\n",
    "\n",
    ">Missing Age values are imputed using the dataset median, preserving distribution shape without introducing bias. A missingness flag allows the model to learn from absence of age data, which may itself be informative."
   ]
  },
  {
   "cell_type": "code",
   "execution_count": 7,
   "id": "6426d44b",
   "metadata": {},
   "outputs": [],
   "source": [
    "# Age missing flag\n",
    "train['Age_missing'] = train['Age'].isna()\n",
    "test['Age_missing'] = test['Age'].isna()\n",
    "\n",
    "# Fill missing with median\n",
    "age_median = train['Age'].median()\n",
    "train['Age'] = train['Age'].fillna(age_median)\n",
    "test['Age'] = test['Age'].fillna(age_median)"
   ]
  },
  {
   "cell_type": "markdown",
   "id": "485afd50",
   "metadata": {},
   "source": [
    "**Split & Clean Cabin Field**\n",
    "\n",
    ">The Cabin field encodes three subcomponents: deck, number, and side. We split these for better model interpretability. Since many values are missing, we flag and impute `CabinDeck` and `CabinSide` with `\"Unknown\"`. `CabinNum` is retained for now, but may be dropped or binned later if shown to be uninformative."
   ]
  },
  {
   "cell_type": "code",
   "execution_count": 8,
   "id": "ff4b45b2",
   "metadata": {},
   "outputs": [],
   "source": [
    "# Split Cabin into Deck / Num / Side\n",
    "for df in [train, test]:\n",
    "    df[['CabinDeck', 'CabinNum', 'CabinSide']] = df['Cabin'].str.split('/', expand=True)\n",
    "\n",
    "# Flag missing components\n",
    "train['CabinDeck_missing'] = train['CabinDeck'].isna()\n",
    "test['CabinDeck_missing'] = test['CabinDeck'].isna()\n",
    "train['CabinSide_missing'] = train['CabinSide'].isna()\n",
    "test['CabinSide_missing'] = test['CabinSide'].isna()\n",
    "\n",
    "# Fill missing Deck/Side with 'Unknown'\n",
    "train['CabinDeck'] = train['CabinDeck'].fillna('Unknown')\n",
    "test['CabinDeck'] = test['CabinDeck'].fillna('Unknown')\n",
    "train['CabinSide'] = train['CabinSide'].fillna('Unknown')\n",
    "test['CabinSide'] = test['CabinSide'].fillna('Unknown')\n",
    "\n",
    "# Optionally fill or drop CabinNum\n",
    "train['CabinNum'] = train['CabinNum'].fillna(-1).astype(float)\n",
    "test['CabinNum'] = test['CabinNum'].fillna(-1).astype(float)"
   ]
  },
  {
   "cell_type": "markdown",
   "id": "a3d6a812",
   "metadata": {},
   "source": [
    "**Verify Cleaning & Imputation**\n",
    "\n",
    ">Before moving to feature engineering, we confirm all transformations were successful. This includes inspecting new columns, verifying missing value handling, and ensuring expected distributions for imputed fields."
   ]
  },
  {
   "cell_type": "code",
   "execution_count": 9,
   "id": "46430eb4",
   "metadata": {},
   "outputs": [
    {
     "name": "stdout",
     "output_type": "stream",
     "text": [
      "Added Columns:\n",
      " - GroupID\n",
      " - MissingCount\n",
      " - NoSpend\n",
      " - CryoSleep_missing\n",
      " - RoomService_missing\n",
      " - FoodCourt_missing\n",
      " - ShoppingMall_missing\n",
      " - Spa_missing\n",
      " - VRDeck_missing\n",
      " - VIP_missing\n",
      " - Age_missing\n",
      " - CabinDeck\n",
      " - CabinNum\n",
      " - CabinSide\n",
      " - CabinDeck_missing\n",
      " - CabinSide_missing\n"
     ]
    },
    {
     "data": {
      "text/html": [
       "<div>\n",
       "<style scoped>\n",
       "    .dataframe tbody tr th:only-of-type {\n",
       "        vertical-align: middle;\n",
       "    }\n",
       "\n",
       "    .dataframe tbody tr th {\n",
       "        vertical-align: top;\n",
       "    }\n",
       "\n",
       "    .dataframe thead th {\n",
       "        text-align: right;\n",
       "    }\n",
       "</style>\n",
       "<table border=\"1\" class=\"dataframe\">\n",
       "  <thead>\n",
       "    <tr style=\"text-align: right;\">\n",
       "      <th></th>\n",
       "      <th>GroupID</th>\n",
       "      <th>MissingCount</th>\n",
       "      <th>NoSpend</th>\n",
       "      <th>CryoSleep_missing</th>\n",
       "      <th>RoomService_missing</th>\n",
       "      <th>FoodCourt_missing</th>\n",
       "      <th>ShoppingMall_missing</th>\n",
       "      <th>Spa_missing</th>\n",
       "      <th>VRDeck_missing</th>\n",
       "      <th>VIP_missing</th>\n",
       "      <th>Age_missing</th>\n",
       "      <th>CabinDeck</th>\n",
       "      <th>CabinNum</th>\n",
       "      <th>CabinSide</th>\n",
       "      <th>CabinDeck_missing</th>\n",
       "      <th>CabinSide_missing</th>\n",
       "    </tr>\n",
       "  </thead>\n",
       "  <tbody>\n",
       "    <tr>\n",
       "      <th>0</th>\n",
       "      <td>0001</td>\n",
       "      <td>0</td>\n",
       "      <td>True</td>\n",
       "      <td>False</td>\n",
       "      <td>False</td>\n",
       "      <td>False</td>\n",
       "      <td>False</td>\n",
       "      <td>False</td>\n",
       "      <td>False</td>\n",
       "      <td>False</td>\n",
       "      <td>False</td>\n",
       "      <td>B</td>\n",
       "      <td>0.0</td>\n",
       "      <td>P</td>\n",
       "      <td>False</td>\n",
       "      <td>False</td>\n",
       "    </tr>\n",
       "    <tr>\n",
       "      <th>1</th>\n",
       "      <td>0002</td>\n",
       "      <td>0</td>\n",
       "      <td>False</td>\n",
       "      <td>False</td>\n",
       "      <td>False</td>\n",
       "      <td>False</td>\n",
       "      <td>False</td>\n",
       "      <td>False</td>\n",
       "      <td>False</td>\n",
       "      <td>False</td>\n",
       "      <td>False</td>\n",
       "      <td>F</td>\n",
       "      <td>0.0</td>\n",
       "      <td>S</td>\n",
       "      <td>False</td>\n",
       "      <td>False</td>\n",
       "    </tr>\n",
       "    <tr>\n",
       "      <th>2</th>\n",
       "      <td>0003</td>\n",
       "      <td>0</td>\n",
       "      <td>False</td>\n",
       "      <td>False</td>\n",
       "      <td>False</td>\n",
       "      <td>False</td>\n",
       "      <td>False</td>\n",
       "      <td>False</td>\n",
       "      <td>False</td>\n",
       "      <td>False</td>\n",
       "      <td>False</td>\n",
       "      <td>A</td>\n",
       "      <td>0.0</td>\n",
       "      <td>S</td>\n",
       "      <td>False</td>\n",
       "      <td>False</td>\n",
       "    </tr>\n",
       "    <tr>\n",
       "      <th>3</th>\n",
       "      <td>0003</td>\n",
       "      <td>0</td>\n",
       "      <td>False</td>\n",
       "      <td>False</td>\n",
       "      <td>False</td>\n",
       "      <td>False</td>\n",
       "      <td>False</td>\n",
       "      <td>False</td>\n",
       "      <td>False</td>\n",
       "      <td>False</td>\n",
       "      <td>False</td>\n",
       "      <td>A</td>\n",
       "      <td>0.0</td>\n",
       "      <td>S</td>\n",
       "      <td>False</td>\n",
       "      <td>False</td>\n",
       "    </tr>\n",
       "    <tr>\n",
       "      <th>4</th>\n",
       "      <td>0004</td>\n",
       "      <td>0</td>\n",
       "      <td>False</td>\n",
       "      <td>False</td>\n",
       "      <td>False</td>\n",
       "      <td>False</td>\n",
       "      <td>False</td>\n",
       "      <td>False</td>\n",
       "      <td>False</td>\n",
       "      <td>False</td>\n",
       "      <td>False</td>\n",
       "      <td>F</td>\n",
       "      <td>1.0</td>\n",
       "      <td>S</td>\n",
       "      <td>False</td>\n",
       "      <td>False</td>\n",
       "    </tr>\n",
       "  </tbody>\n",
       "</table>\n",
       "</div>"
      ],
      "text/plain": [
       "  GroupID  MissingCount  NoSpend  CryoSleep_missing  RoomService_missing  \\\n",
       "0    0001             0     True              False                False   \n",
       "1    0002             0    False              False                False   \n",
       "2    0003             0    False              False                False   \n",
       "3    0003             0    False              False                False   \n",
       "4    0004             0    False              False                False   \n",
       "\n",
       "   FoodCourt_missing  ShoppingMall_missing  Spa_missing  VRDeck_missing  \\\n",
       "0              False                 False        False           False   \n",
       "1              False                 False        False           False   \n",
       "2              False                 False        False           False   \n",
       "3              False                 False        False           False   \n",
       "4              False                 False        False           False   \n",
       "\n",
       "   VIP_missing  Age_missing CabinDeck  CabinNum CabinSide  CabinDeck_missing  \\\n",
       "0        False        False         B       0.0         P              False   \n",
       "1        False        False         F       0.0         S              False   \n",
       "2        False        False         A       0.0         S              False   \n",
       "3        False        False         A       0.0         S              False   \n",
       "4        False        False         F       1.0         S              False   \n",
       "\n",
       "   CabinSide_missing  \n",
       "0              False  \n",
       "1              False  \n",
       "2              False  \n",
       "3              False  \n",
       "4              False  "
      ]
     },
     "metadata": {},
     "output_type": "display_data"
    },
    {
     "name": "stdout",
     "output_type": "stream",
     "text": [
      "\n",
      "🧹 Missing Value Summary:\n"
     ]
    },
    {
     "data": {
      "text/plain": [
       "HomePlanet     201\n",
       "Name           200\n",
       "Cabin          199\n",
       "Destination    182\n",
       "dtype: int64"
      ]
     },
     "metadata": {},
     "output_type": "display_data"
    }
   ],
   "source": [
    "# Show new columns added\n",
    "added_cols = [col for col in train.columns if col not in pd.read_csv('../data/train.csv').columns]\n",
    "print(\"Added Columns:\")\n",
    "for col in added_cols:\n",
    "    print(f\" - {col}\")\n",
    "\n",
    "# Preview head of new features\n",
    "display(train[added_cols].head())\n",
    "\n",
    "# Summary of missing values (should now be 0 or only in fields we chose to ignore like Name)\n",
    "print(\"\\n🧹 Missing Value Summary:\")\n",
    "missing_summary = train.isnull().sum()\n",
    "display(missing_summary[missing_summary > 0].sort_values(ascending=False))\n",
    "\n",
    "\n"
   ]
  },
  {
   "cell_type": "markdown",
   "id": "4f525c1f",
   "metadata": {},
   "source": [
    "**New columns added:**\n",
    "\n",
    "Successfully introduced 16 engineered or imputation-related columns, including:\n",
    "\n",
    "Structural: `GroupID`, `CabinDeck`, `CabinNum`, `CabinSide`\n",
    "\n",
    "Missingness flags: `CryoSleep_missing`, `VIP_missing`, all spending categories\n",
    "\n",
    "Behavioral: `NoSpend`, `MissingCount`\n",
    "\n",
    "**Missing values left:**\n",
    "\n",
    ">Only columns intentionally ignored:\n",
    "\n",
    "| Column        | Notes                                   |\n",
    "| ------------- | --------------------------------------- |\n",
    "| `HomePlanet`  | Possibly noisy — wait on imputing       |\n",
    "| `Name`        | Text column — may extract surname later |\n",
    "| `Cabin`       | Already split into components           |\n",
    "| `Destination` | Will likely fill from GroupID           |\n"
   ]
  },
  {
   "cell_type": "markdown",
   "id": "0cec05d9",
   "metadata": {},
   "source": [
    "**Next Step: Feature Engineering**\n",
    "\n",
    ">Now onto Step 2 of the plan:\n",
    "\n",
    "**Feature Engineering (Part 1): Activity & Group**\n",
    "\n",
    "Now to generate new features based on behavioral patterns and relationships:\n",
    "\n",
    "- `NoActivity` — True if a passenger spent zero across all categories and was not VIP\n",
    "\n",
    "- `GroupSize` — Total number of passengers sharing a GroupID\n",
    "\n",
    "- `IsAlone` — True if GroupSize == 1\n",
    "\n",
    ">These features are powerful signals for inferring CryoSleep and Transport likelihood.\n",
    "\n"
   ]
  },
  {
   "cell_type": "code",
   "execution_count": 10,
   "id": "b2de1678",
   "metadata": {},
   "outputs": [],
   "source": [
    "# NoActivity: didn't spend anything and not a VIP\n",
    "train['NoActivity'] = (train['NoSpend']) & (train['VIP'] == False)\n",
    "test['NoActivity'] = (test['NoSpend']) & (test['VIP'] == False)\n",
    "\n",
    "# GroupSize\n",
    "group_counts = train['GroupID'].value_counts()\n",
    "train['GroupSize'] = train['GroupID'].map(group_counts)\n",
    "test['GroupSize'] = test['GroupID'].map(group_counts)  # Some GroupIDs in test may be unseen\n",
    "test['GroupSize'] = test['GroupSize'].fillna(1)  # Assume unseen = solo\n",
    "\n",
    "# IsAlone flag\n",
    "train['IsAlone'] = train['GroupSize'] == 1\n",
    "test['IsAlone'] = test['GroupSize'] == 1"
   ]
  },
  {
   "cell_type": "markdown",
   "id": "8e06baa5",
   "metadata": {},
   "source": [
    "**Feature Engineering (Part 2): Age Binning**\n",
    "\n",
    "Age alone wasn’t a strong predictor, but binning may expose hidden patterns. \n",
    "\n",
    "We’ll create:\n",
    "\n",
    "- `AgeGroup` — Categorical bin of passenger age:\n",
    "\n",
    "    - `\"Child\"`: under 13\n",
    "\n",
    "    - `\"Teen\"`: 13–19\n",
    "\n",
    "    - `\"YoungAdult\"`: 20–35\n",
    "\n",
    "    - `\"Adult\"`: 36–60\n",
    "\n",
    "    - `\"Senior\"`: over 60\n",
    "\n",
    "This creates human-interpretable categories that could align with behavior or CryoSleep tendencies."
   ]
  },
  {
   "cell_type": "code",
   "execution_count": 11,
   "id": "a9b005e5",
   "metadata": {},
   "outputs": [],
   "source": [
    "def bin_age(age):\n",
    "    if pd.isna(age):\n",
    "        return 'Unknown'\n",
    "    elif age < 13:\n",
    "        return 'Child'\n",
    "    elif age < 20:\n",
    "        return 'Teen'\n",
    "    elif age < 36:\n",
    "        return 'YoungAdult'\n",
    "    elif age < 61:\n",
    "        return 'Adult'\n",
    "    else:\n",
    "        return 'Senior'\n",
    "\n",
    "train['AgeGroup'] = train['Age'].apply(bin_age)\n",
    "test['AgeGroup'] = test['Age'].apply(bin_age)"
   ]
  },
  {
   "cell_type": "code",
   "execution_count": 12,
   "id": "133f13df",
   "metadata": {},
   "outputs": [
    {
     "name": "stdout",
     "output_type": "stream",
     "text": [
      "AgeGroup\n",
      "YoungAdult    4022\n",
      "Adult         2293\n",
      "Teen          1352\n",
      "Child          806\n",
      "Senior         220\n",
      "Name: count, dtype: int64\n"
     ]
    }
   ],
   "source": [
    "train['AgeGroup'].value_counts()\n",
    "print(train['AgeGroup'].value_counts(dropna=False))"
   ]
  },
  {
   "cell_type": "markdown",
   "id": "fd3960da",
   "metadata": {},
   "source": [
    "**Add Group Size Feature**\n",
    "\n",
    ">Passengers with the same `GroupID` (from the `PassengerId` prefix) are likely traveling together - as family or companions. I'll count the number of passengers per group and assign that value to each row as a new `GroupSize` feature. This may help us identify behaviors like group transport tendencies or shared decisions (e.g. all going into CryoSleep)."
   ]
  },
  {
   "cell_type": "code",
   "execution_count": 13,
   "id": "b4ca9099",
   "metadata": {},
   "outputs": [
    {
     "name": "stdout",
     "output_type": "stream",
     "text": [
      "GroupSize\n",
      "1    4805\n",
      "2    1682\n",
      "3    1020\n",
      "4     412\n",
      "5     265\n",
      "7     231\n",
      "6     174\n",
      "8     104\n",
      "Name: count, dtype: int64\n"
     ]
    }
   ],
   "source": [
    "# Add GroupSize feature based on GroupID counts\n",
    "train['GroupSize'] = train['GroupID'].map(train['GroupID'].value_counts())\n",
    "test['GroupSize'] = test['GroupID'].map(test['GroupID'].value_counts())\n",
    "print(train['GroupSize'].value_counts(dropna=False))"
   ]
  },
  {
   "cell_type": "markdown",
   "id": "bcda5626",
   "metadata": {},
   "source": [
    "---\n",
    "\n",
    "**Correlation with `Transported`**\n",
    "\n",
    "> Before modeling, let's take a look at how our engineered features relate to the target variable. We'll use the training set only and start with simple correlation for numerical features, and then explore category distributions.\n"
   ]
  },
  {
   "cell_type": "code",
   "execution_count": 14,
   "id": "2b29ce90",
   "metadata": {},
   "outputs": [
    {
     "data": {
      "text/plain": [
       "GroupSize       0.082644\n",
       "FoodCourt       0.045583\n",
       "ShoppingMall    0.009391\n",
       "MissingCount    0.004826\n",
       "CabinNum       -0.043830\n",
       "Age            -0.074233\n",
       "VRDeck         -0.204874\n",
       "Spa            -0.218545\n",
       "RoomService    -0.241124\n",
       "Name: Transported, dtype: float64"
      ]
     },
     "execution_count": 14,
     "metadata": {},
     "output_type": "execute_result"
    }
   ],
   "source": [
    "# Temporarily map Transported to 1/0 for correlation\n",
    "train_corr = train.copy()\n",
    "train_corr['Transported'] = train_corr['Transported'].map({True: 1, False: 0})\n",
    "\n",
    "# Select numeric columns\n",
    "numeric_cols = train_corr.select_dtypes(include='number').columns.tolist()\n",
    "\n",
    "# Compute correlation\n",
    "correlations = train_corr[numeric_cols].corr()['Transported'].sort_values(ascending=False)\n",
    "\n",
    "# Display correlation\n",
    "correlations.drop('Transported')  # Drop self-correlation"
   ]
  },
  {
   "cell_type": "markdown",
   "id": "dc303969",
   "metadata": {},
   "source": [
    "| Feature        | Correlation | Interpretation                                                                                              |\n",
    "| -------------- | ----------- | ----------------------------------------------------------------------------------------------------------- |\n",
    "| `GroupSize`    | **+0.08**   | Slight trend: larger groups may be more likely to be transported.                                           |\n",
    "| `FoodCourt`    | **+0.05**   | Tiny positive signal - maybe small spenders are awake and less likely to be transported.                    |\n",
    "| `ShoppingMall` | **+0.009**  | Negligible.                                                                                                 |\n",
    "| `MissingCount` | **+0.0048** | Totally negligible.                                                                                         |\n",
    "| `CabinNum`     | **-0.044**  | Slight trend that lower-numbered cabins have higher transport odds. Maybe front-of-ship bias?               |\n",
    "| `Age`          | **-0.074**  | Slight trend that younger people are more likely to be transported. (Consistent with `AgeGroup` insight.)   |\n",
    "| `VRDeck`       | **-0.204**  | Stronger signal - more VRDeck spend → less likely to be transported. Possibly awake/engaged passengers.     |\n",
    "| `Spa`          | **-0.219**  | Even stronger - spa usage inversely related to being transported.                                           |\n",
    "| `RoomService`  | **-0.241**  | Strongest inverse signal - room service usage likely means awake, aware, not in CryoSleep, not transported. |\n"
   ]
  },
  {
   "cell_type": "markdown",
   "id": "79086fbb",
   "metadata": {},
   "source": [
    "**Checking Multicollinearity**\n",
    "\n",
    ">I'll use a correlation heatmap to identify highly correlated features. This helps avoid feeding redundant signals into the model, which can skew importance and introduce noise. Spend categories and total spend are prime suspects."
   ]
  },
  {
   "cell_type": "code",
   "execution_count": 15,
   "id": "da5e0389",
   "metadata": {},
   "outputs": [
    {
     "data": {
      "image/png": "[encoded data removed]",
      "text/plain": [
       "<Figure size 1200x1000 with 2 Axes>"
      ]
     },
     "metadata": {},
     "output_type": "display_data"
    }
   ],
   "source": [
    "import matplotlib.pyplot as plt\n",
    "import seaborn as sns\n",
    "\n",
    "# Select only numeric features for correlation analysis\n",
    "numeric_features = train.select_dtypes(include='number')\n",
    "\n",
    "# Compute correlation matrix\n",
    "corr_matrix = numeric_features.corr()\n",
    "\n",
    "# Plot heatmap\n",
    "plt.figure(figsize=(12, 10))\n",
    "sns.heatmap(corr_matrix, annot=True, fmt=\".2f\", cmap='coolwarm', square=True)\n",
    "plt.title('Correlation Heatmap of Numeric Features')\n",
    "plt.tight_layout()\n",
    "plt.show()"
   ]
  },
  {
   "cell_type": "markdown",
   "id": "4cc56b93",
   "metadata": {},
   "source": [
    "**Quick Interpretation**\n",
    "\n",
    "- No strong correlations (> 0.8) between any pair — that’s good. We're not looking at truly redundant features.\n",
    "\n",
    "- The spending categories (`Spa`, `VRDeck`, `FoodCourt`, etc.) all hover in the low correlation range with one another. Highest is:\n",
    "\n",
    "    - `FoodCourt` vs `Spa`: 0.22\n",
    "\n",
    "    - `FoodCourt` vs `VRDeck`: 0.22\n",
    "\n",
    "    - `Spa` vs `VRDeck`: 0.15\n",
    "\n",
    "These values are low — it tells us each spend category is relatively independent in user behavior.\n",
    "\n",
    "\n",
    "**What That Means**\n",
    "\n",
    "We don’t need to drop any spend columns yet due to multicollinearity. They offer distinct signals. That said:\n",
    "\n",
    "- It might still be useful to create flags like `SpentAt_Spa`, `SpentAt_VRDeck`, etc.\n",
    "\n",
    "- And `TotalSpent` (if we bring it back later) could capture global patterns, while individual spend categories might detect specific behaviors (e.g. VRDeck = entertainment-oriented)."
   ]
  },
  {
   "cell_type": "markdown",
   "id": "9b4e537a",
   "metadata": {},
   "source": [
    "**Save Final Datasets**\n",
    "\n",
    "Now that feature engineering and cleaning are complete, we export the transformed `train` and `test` datasets as CSV files for use in the modeling notebook."
   ]
  },
  {
   "cell_type": "code",
   "execution_count": 16,
   "id": "8a4da709",
   "metadata": {},
   "outputs": [],
   "source": [
    "# Save cleaned and feature-engineered data\n",
    "train.to_csv('../data/train_clean.csv', index=False)\n",
    "test.to_csv('../data/test_clean.csv', index=False)"
   ]
  }
 ],
 "metadata": {
  "kernelspec": {
   "display_name": ".venv",
   "language": "python",
   "name": "python3"
  },
  "language_info": {
   "codemirror_mode": {
    "name": "ipython",
    "version": 3
   },
   "file_extension": ".py",
   "mimetype": "text/x-python",
   "name": "python",
   "nbconvert_exporter": "python",
   "pygments_lexer": "ipython3",
   "version": "3.11.0"
  }
 },
 "nbformat": 4,
 "nbformat_minor": 5
}
