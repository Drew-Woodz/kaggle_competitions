{
 "cells": [
  {
   "cell_type": "markdown",
   "id": "de31600c",
   "metadata": {},
   "source": [
    "### 1. Data Cleaning & Imputation"
   ]
  },
  {
   "cell_type": "markdown",
   "id": "54df0651",
   "metadata": {},
   "source": [
    "**Load Raw Data**\n",
    "\n",
    ">We start by importing the raw training and test datasets. These will serve as the foundation for all future transformations, imputations, and feature engineering work. This step ensures we’re working with the unmodified data straight from the competition source."
   ]
  },
  {
   "cell_type": "code",
   "execution_count": 1,
   "id": "76c09f2e",
   "metadata": {},
   "outputs": [],
   "source": [
    "import pandas as pd\n",
    "# Load data\n",
    "train = pd.read_csv('../data/train.csv')\n",
    "test = pd.read_csv('../data/test.csv')"
   ]
  },
  {
   "cell_type": "markdown",
   "id": "f5c4c434",
   "metadata": {},
   "source": [
    "**Extract GroupID from PassengerId & Track Missing Values**\n",
    "\n",
    ">The PassengerId is formatted as `GroupID_PassengerNumber`. Splitting this gives us a `GroupID`, which may be useful for inferring transport outcomes within families or travel groups. We also add a column to track how many fields are missing per row, which may indicate `CryoSleep` or data quality issues."
   ]
  },
  {
   "cell_type": "code",
   "execution_count": 2,
   "id": "b53025d4",
   "metadata": {},
   "outputs": [],
   "source": [
    "# Extract GroupID\n",
    "train['GroupID'] = train['PassengerId'].str.split('_').str[0]\n",
    "test['GroupID'] = test['PassengerId'].str.split('_').str[0]\n",
    "\n",
    "# Track total missing fields per row\n",
    "train['MissingCount'] = train.isnull().sum(axis=1)\n",
    "test['MissingCount'] = test.isnull().sum(axis=1)\n"
   ]
  },
  {
   "cell_type": "markdown",
   "id": "2eec8c9e",
   "metadata": {},
   "source": [
    "**Impute CryoSleep Based on Spending Behavior**\n",
    "\n",
    ">Passengers in `CryoSleep` almost never have spending in categories like `Spa`, `VRDeck`, `ShoppingMall`, etc. So if all spending is zero or missing, and `CryoSleep` is `null`, we can safely assume they were asleep.\n",
    "\n",
    "We also create a `NoSpend` flag to capture passengers with no non-zero spending, useful for downstream analysis."
   ]
  },
  {
   "cell_type": "code",
   "execution_count": 3,
   "id": "09ca47ba",
   "metadata": {},
   "outputs": [],
   "source": [
    "# Spending categories\n",
    "spend_cols = ['RoomService', 'FoodCourt', 'ShoppingMall', 'Spa', 'VRDeck']\n",
    "\n",
    "# Create 'NoSpend' flag\n",
    "train['NoSpend'] = train[spend_cols].fillna(0).sum(axis=1) == 0\n",
    "test['NoSpend'] = test[spend_cols].fillna(0).sum(axis=1) == 0\n",
    "\n",
    "# Impute CryoSleep as True when no spend and missing CryoSleep\n",
    "train['CryoSleep'] = train.apply(\n",
    "    lambda row: True if pd.isna(row['CryoSleep']) and row['NoSpend'] else row['CryoSleep'],\n",
    "    axis=1\n",
    ")\n",
    "test['CryoSleep'] = test.apply(\n",
    "    lambda row: True if pd.isna(row['CryoSleep']) and row['NoSpend'] else row['CryoSleep'],\n",
    "    axis=1\n",
    ")\n"
   ]
  }
 ],
 "metadata": {
  "kernelspec": {
   "display_name": ".venv",
   "language": "python",
   "name": "python3"
  },
  "language_info": {
   "codemirror_mode": {
    "name": "ipython",
    "version": 3
   },
   "file_extension": ".py",
   "mimetype": "text/x-python",
   "name": "python",
   "nbconvert_exporter": "python",
   "pygments_lexer": "ipython3",
   "version": "3.11.0"
  }
 },
 "nbformat": 4,
 "nbformat_minor": 5
}
