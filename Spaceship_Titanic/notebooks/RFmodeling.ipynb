{
 "cells": [
  {
   "cell_type": "code",
   "execution_count": 1,
   "id": "9a952aab",
   "metadata": {},
   "outputs": [
    {
     "name": "stdout",
     "output_type": "stream",
     "text": [
      "Train shape: (8693, 34)\n",
      "Test shape: (4277, 33)\n",
      "Transported\n",
      "True     0.503624\n",
      "False    0.496376\n",
      "Name: proportion, dtype: float64\n",
      "bool\n",
      "[False  True]\n"
     ]
    }
   ],
   "source": [
    "import pandas as pd\n",
    "\n",
    "# Reload the baseline cleaned data\n",
    "train = pd.read_csv('../data/train_clean.csv')\n",
    "test = pd.read_csv('../data/test_clean.csv')\n",
    "\n",
    "print(f\"Train shape: {train.shape}\")\n",
    "print(f\"Test shape: {test.shape}\")\n",
    "\n",
    "print(train['Transported'].value_counts(normalize=True))\n",
    "\n",
    "print(train['Transported'].dtype)\n",
    "print(train['Transported'].unique())\n",
    "\n"
   ]
  },
  {
   "cell_type": "markdown",
   "id": "04ba0fb2",
   "metadata": {},
   "source": [
    "**Random Forest Classifier (Baseline)**\n",
    "\n",
    ">Let’s train a Random Forest model on the same data setup used for LightGBM.\n",
    "This will give us a baseline to compare model types before tuning."
   ]
  },
  {
   "cell_type": "code",
   "execution_count": 2,
   "id": "5a5bf5fc",
   "metadata": {},
   "outputs": [
    {
     "name": "stdout",
     "output_type": "stream",
     "text": [
      "   CryoSleep   Age  RoomService  FoodCourt  ShoppingMall     Spa  VRDeck  \\\n",
      "0      False  39.0          0.0        0.0           0.0     0.0     0.0   \n",
      "1      False  24.0        109.0        9.0          25.0   549.0    44.0   \n",
      "2      False  58.0         43.0     3576.0           0.0  6715.0    49.0   \n",
      "\n",
      "   GroupID  GroupSize  CabinNum  ...  CabinDeck_F  CabinDeck_G  CabinDeck_T  \\\n",
      "0        1          1       0.0  ...        False        False        False   \n",
      "1        2          1       0.0  ...         True        False        False   \n",
      "2        3          2       0.0  ...        False        False        False   \n",
      "\n",
      "   CabinDeck_Unknown  CabinSide_P  CabinSide_S  CabinSide_Unknown  \\\n",
      "0              False         True        False              False   \n",
      "1              False        False         True              False   \n",
      "2              False        False         True              False   \n",
      "\n",
      "   Destination_cleaned_55 Cancri e  Destination_cleaned_PSO J318.5-22  \\\n",
      "0                            False                              False   \n",
      "1                            False                              False   \n",
      "2                            False                              False   \n",
      "\n",
      "   Destination_cleaned_TRAPPIST-1e  \n",
      "0                             True  \n",
      "1                             True  \n",
      "2                             True  \n",
      "\n",
      "[3 rows x 41 columns]\n",
      "0    0\n",
      "1    1\n",
      "2    0\n",
      "Name: Transported, dtype: int64\n"
     ]
    }
   ],
   "source": [
    "# Train model\n",
    "from sklearn.ensemble import RandomForestClassifier\n",
    "from sklearn.model_selection import cross_val_score\n",
    "from sklearn.model_selection import cross_validate\n",
    "\n",
    "# Load clean data\n",
    "train = pd.read_csv('../data/train_clean.csv')\n",
    "test = pd.read_csv('../data/test_clean.csv')\n",
    "\n",
    "target_col = 'Transported'\n",
    "\n",
    "drop_cols_train = ['PassengerId', 'Name', 'Surname', 'Cabin',\n",
    "                   'VIP_confidence', 'Destination_confidence', 'Age_confidence', target_col]\n",
    "\n",
    "drop_cols_test = ['PassengerId', 'Name', 'Surname', 'Cabin',\n",
    "                  'VIP_confidence', 'Destination_confidence', 'Age_confidence']\n",
    "\n",
    "\n",
    "X = train.drop(columns=drop_cols_train)\n",
    "y = train[target_col].astype(int)\n",
    "\n",
    "X = pd.get_dummies(X)\n",
    "test_encoded = pd.get_dummies(test.drop(columns=drop_cols_test))\n",
    "\n",
    "X, test_encoded = X.align(test_encoded, join='left', axis=1, fill_value=0)\n",
    "\n",
    "\n",
    "print(X.head(3))\n",
    "print(y.head(3))\n",
    "\n"
   ]
  },
  {
   "cell_type": "code",
   "execution_count": 3,
   "id": "b2d740e0",
   "metadata": {},
   "outputs": [
    {
     "name": "stdout",
     "output_type": "stream",
     "text": [
      "Cross-validation accuracy per fold:\n",
      "[0.69810236 0.74813111 0.80621047 0.82336018 0.76064442]\n",
      "\n",
      "Training accuracy per fold:\n",
      "[0.99956859 0.9997124  0.9997124  0.99956866 0.99985622]\n",
      "\n",
      "Mean CV Accuracy: 0.7673\n",
      "Std Dev CV Accuracy: 0.0444\n"
     ]
    }
   ],
   "source": [
    "\n",
    "rf = RandomForestClassifier(n_estimators=100, random_state=42)\n",
    "\n",
    "cv_results = cross_validate(\n",
    "    rf,\n",
    "    X,\n",
    "    y,\n",
    "    cv=5,\n",
    "    scoring='accuracy',\n",
    "    return_train_score=True,\n",
    "    n_jobs=-1\n",
    ")\n",
    "\n",
    "print(\"Cross-validation accuracy per fold:\")\n",
    "print(cv_results['test_score'])\n",
    "\n",
    "print(\"\\nTraining accuracy per fold:\")\n",
    "print(cv_results['train_score'])\n",
    "\n",
    "print(f\"\\nMean CV Accuracy: {cv_results['test_score'].mean():.4f}\")\n",
    "print(f\"Std Dev CV Accuracy: {cv_results['test_score'].std():.4f}\")\n",
    "\n",
    "\n",
    "\n",
    "rf.fit(X, y)\n",
    "test_preds = rf.predict(test_encoded)\n",
    "\n",
    "# Save submission\n",
    "# submission = pd.DataFrame({\n",
    "#     'PassengerId': test['PassengerId'],\n",
    "#     'Transported': test_preds.astype(bool)\n",
    "# })\n",
    "# submission.to_csv('../submissions/rf_submission.csv', index=False)"
   ]
  }
 ],
 "metadata": {
  "kernelspec": {
   "display_name": ".venv",
   "language": "python",
   "name": "python3"
  },
  "language_info": {
   "codemirror_mode": {
    "name": "ipython",
    "version": 3
   },
   "file_extension": ".py",
   "mimetype": "text/x-python",
   "name": "python",
   "nbconvert_exporter": "python",
   "pygments_lexer": "ipython3",
   "version": "3.11.0"
  }
 },
 "nbformat": 4,
 "nbformat_minor": 5
}
