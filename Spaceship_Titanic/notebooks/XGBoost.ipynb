{
 "cells": [
  {
   "cell_type": "code",
   "execution_count": 1,
   "id": "2678ea4c",
   "metadata": {},
   "outputs": [
    {
     "name": "stdout",
     "output_type": "stream",
     "text": [
      "Encoded train shape: (8693, 23766)\n",
      "Encoded test shape: (4277, 23766)\n"
     ]
    }
   ],
   "source": [
    "# Imports\n",
    "import pandas as pd\n",
    "import numpy as np\n",
    "from xgboost import XGBClassifier\n",
    "from sklearn.model_selection import StratifiedKFold\n",
    "from sklearn.metrics import log_loss, accuracy_score\n",
    "\n",
    "# Load data\n",
    "train = pd.read_csv('../data/train_clean.csv')\n",
    "test = pd.read_csv('../data/test_clean.csv')\n",
    "\n",
    "# Split features and labels\n",
    "X = train.drop(columns=['Transported'])\n",
    "y = train['Transported'].astype(int)\n",
    "\n",
    "# One-hot encode categorical features (object, bool, category)\n",
    "X_encoded = pd.get_dummies(X, drop_first=True)\n",
    "test_encoded = pd.get_dummies(test, drop_first=True)\n",
    "\n",
    "# Align columns in case train/test differ\n",
    "X_encoded, test_encoded = X_encoded.align(test_encoded, join='left', axis=1, fill_value=0)\n",
    "\n",
    "print(f\"Encoded train shape: {X_encoded.shape}\")\n",
    "print(f\"Encoded test shape: {test_encoded.shape}\")\n"
   ]
  },
  {
   "cell_type": "code",
   "execution_count": 2,
   "id": "04e577d1",
   "metadata": {},
   "outputs": [
    {
     "name": "stderr",
     "output_type": "stream",
     "text": [
      "c:\\Users\\andre\\source\\kaggle_competitions\\.venv\\Lib\\site-packages\\xgboost\\training.py:183: UserWarning: [21:57:07] WARNING: C:\\actions-runner\\_work\\xgboost\\xgboost\\src\\learner.cc:738: \n",
      "Parameters: { \"use_label_encoder\" } are not used.\n",
      "\n",
      "  bst.update(dtrain, iteration=i, fobj=obj)\n"
     ]
    },
    {
     "name": "stdout",
     "output_type": "stream",
     "text": [
      "Fold 1 Log Loss: 0.39597 | Accuracy: 0.8079\n"
     ]
    },
    {
     "name": "stderr",
     "output_type": "stream",
     "text": [
      "c:\\Users\\andre\\source\\kaggle_competitions\\.venv\\Lib\\site-packages\\xgboost\\training.py:183: UserWarning: [21:58:33] WARNING: C:\\actions-runner\\_work\\xgboost\\xgboost\\src\\learner.cc:738: \n",
      "Parameters: { \"use_label_encoder\" } are not used.\n",
      "\n",
      "  bst.update(dtrain, iteration=i, fobj=obj)\n"
     ]
    },
    {
     "name": "stdout",
     "output_type": "stream",
     "text": [
      "Fold 2 Log Loss: 0.40716 | Accuracy: 0.8062\n"
     ]
    },
    {
     "name": "stderr",
     "output_type": "stream",
     "text": [
      "c:\\Users\\andre\\source\\kaggle_competitions\\.venv\\Lib\\site-packages\\xgboost\\training.py:183: UserWarning: [21:59:59] WARNING: C:\\actions-runner\\_work\\xgboost\\xgboost\\src\\learner.cc:738: \n",
      "Parameters: { \"use_label_encoder\" } are not used.\n",
      "\n",
      "  bst.update(dtrain, iteration=i, fobj=obj)\n"
     ]
    },
    {
     "name": "stdout",
     "output_type": "stream",
     "text": [
      "Fold 3 Log Loss: 0.39986 | Accuracy: 0.7993\n"
     ]
    },
    {
     "name": "stderr",
     "output_type": "stream",
     "text": [
      "c:\\Users\\andre\\source\\kaggle_competitions\\.venv\\Lib\\site-packages\\xgboost\\training.py:183: UserWarning: [22:01:27] WARNING: C:\\actions-runner\\_work\\xgboost\\xgboost\\src\\learner.cc:738: \n",
      "Parameters: { \"use_label_encoder\" } are not used.\n",
      "\n",
      "  bst.update(dtrain, iteration=i, fobj=obj)\n"
     ]
    },
    {
     "name": "stdout",
     "output_type": "stream",
     "text": [
      "Fold 4 Log Loss: 0.37923 | Accuracy: 0.8136\n"
     ]
    },
    {
     "name": "stderr",
     "output_type": "stream",
     "text": [
      "c:\\Users\\andre\\source\\kaggle_competitions\\.venv\\Lib\\site-packages\\xgboost\\training.py:183: UserWarning: [22:02:55] WARNING: C:\\actions-runner\\_work\\xgboost\\xgboost\\src\\learner.cc:738: \n",
      "Parameters: { \"use_label_encoder\" } are not used.\n",
      "\n",
      "  bst.update(dtrain, iteration=i, fobj=obj)\n"
     ]
    },
    {
     "name": "stdout",
     "output_type": "stream",
     "text": [
      "Fold 5 Log Loss: 0.41144 | Accuracy: 0.7980\n",
      "\n",
      "Overall CV Log Loss: 0.39873\n",
      "Overall CV Accuracy: 0.8050\n"
     ]
    }
   ],
   "source": [
    "# Set up CV\n",
    "cv = StratifiedKFold(n_splits=5, shuffle=True, random_state=42)\n",
    "log_losses = []\n",
    "accuracies = []\n",
    "\n",
    "# OOF and test predictions\n",
    "oof_preds = np.zeros(len(train))\n",
    "test_preds = np.zeros(len(test_encoded))\n",
    "\n",
    "for fold, (train_idx, val_idx) in enumerate(cv.split(X_encoded, y)):\n",
    "    X_train, y_train = X_encoded.iloc[train_idx], y.iloc[train_idx]\n",
    "    X_val, y_val = X_encoded.iloc[val_idx], y.iloc[val_idx]\n",
    "\n",
    "    model = XGBClassifier(\n",
    "        n_estimators=500,\n",
    "        learning_rate=0.05,\n",
    "        max_depth=6,\n",
    "        subsample=0.8,\n",
    "        colsample_bytree=0.8,\n",
    "        random_state=42,\n",
    "        use_label_encoder=False,\n",
    "        eval_metric='logloss'\n",
    "    )\n",
    "\n",
    "    model.fit(X_train, y_train)\n",
    "\n",
    "    val_probs = model.predict_proba(X_val)[:, 1]\n",
    "    val_preds = model.predict(X_val)\n",
    "\n",
    "    oof_preds[val_idx] = val_probs\n",
    "    test_preds += model.predict_proba(test_encoded)[:, 1] / cv.n_splits\n",
    "\n",
    "    fold_log_loss = log_loss(y_val, val_probs)\n",
    "    fold_accuracy = accuracy_score(y_val, val_preds)\n",
    "\n",
    "    log_losses.append(fold_log_loss)\n",
    "    accuracies.append(fold_accuracy)\n",
    "\n",
    "    print(f\"Fold {fold+1} Log Loss: {fold_log_loss:.5f} | Accuracy: {fold_accuracy:.4f}\")\n",
    "\n",
    "# Final results\n",
    "print(f\"\\nOverall CV Log Loss: {np.mean(log_losses):.5f}\")\n",
    "print(f\"Overall CV Accuracy: {np.mean(accuracies):.4f}\")\n"
   ]
  }
 ],
 "metadata": {
  "kernelspec": {
   "display_name": ".venv",
   "language": "python",
   "name": "python3"
  },
  "language_info": {
   "codemirror_mode": {
    "name": "ipython",
    "version": 3
   },
   "file_extension": ".py",
   "mimetype": "text/x-python",
   "name": "python",
   "nbconvert_exporter": "python",
   "pygments_lexer": "ipython3",
   "version": "3.11.0"
  }
 },
 "nbformat": 4,
 "nbformat_minor": 5
}
